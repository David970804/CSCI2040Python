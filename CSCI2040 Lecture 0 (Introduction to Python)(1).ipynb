{
 "cells": [
  {
   "cell_type": "markdown",
   "metadata": {},
   "source": [
    "# CSCI2040: Introduction to Python\n",
    "\n",
    "## Administrative matters\n",
    "\n",
    "**Instructor:**   John C.S. Lui, Computer Science & Engineering Department (CSE), CUHK\n",
    "\n",
    "**Email:** cslui@cse.cuhk.edu\n",
    "\n",
    "**Course webpage:** www.cse.cuhk.edu.hk/~cslui/csci2040.html\n",
    "\n",
    "**Lecture:** September 3, 2018 till October 31, 2018 (*approximately*)\n",
    "\n",
    "**Prepared on:** May 20, 2018.\n",
    "\n",
    "**Important note:** *If you want to use and modify this notebook file, please acknowledge the author."
   ]
  },
  {
   "cell_type": "markdown",
   "metadata": {},
   "source": [
    "# Course outline\n",
    "\n",
    "- Python, software installation & environmnet\n",
    "- Variables and data types\n",
    "- Inputs and outputs\n",
    "- Variable assignment\n",
    "- Control flow:  while, if, for\n",
    "- Logical operators\n",
    "- Lists\n",
    "- Tuples\n",
    "- Dictionaries\n",
    "- List Comprehension\n",
    "- Object-oriented programming\n",
    "- Functional programming\n",
    "- Packages (e.g., matplotlib)\n",
    "- Examples\n",
    "- ...etc\n"
   ]
  },
  {
   "cell_type": "markdown",
   "metadata": {},
   "source": [
    "# Eclipse IDE\n",
    "\n",
    "- Eclipse is a powerful IDE \n",
    "- Download: http://www.eclipse.org/downloads/eclipse-packages/\n",
    "- Use Eclipse IDE for Java Developers (use this package)\n",
    "- Have to install PyDev in Eclipse\n",
    "    * http://www.eclipse.org/downloads/eclipse-packages/ (drag to Eclipse)\n",
    "    * Or https://codeyarns.com/2014/12/23/how-to-install-pydev/\n",
    "- Tutorial on PyDev Pluggin in Eclipse\n",
    "    * Python Development with PyDev and Eclipse – Tutorial:\n",
    "        -- http://www.vogella.com/tutorials/Python/article.html\n",
    "    * Python Programming in the Eclipse IDE:\n",
    "        -- https://www.ics.uci.edu/~pattis/common/handouts/introtopythonineclipse/"
   ]
  },
  {
   "cell_type": "markdown",
   "metadata": {},
   "source": [
    "# Python: Installation \n",
    "\n",
    "We will go through how to\n",
    "- Install python\n",
    "- Different ways to launch python\n",
    "- Installation of Jupyter\n",
    "\n",
    "Prepared by John C.S. Lui, May 31, 2018."
   ]
  },
  {
   "cell_type": "markdown",
   "metadata": {},
   "source": [
    "# Installation of Python\n",
    "\n",
    "To install Python, do the following:\n",
    "\n",
    "- Go to https://www.python.org\n",
    "- Go to the \"Download\"\n",
    "    - Go can download 3.X or 2.Y (**Note**: there are some subtle difference between 2.7 and 3.6)\n",
    "- For Python documentation, please go to \"Documentation\". You can use both 2.x and/or 3.x documentation. (**Important** !!!!!!)\n",
    "\n"
   ]
  },
  {
   "cell_type": "markdown",
   "metadata": {},
   "source": [
    "# Launching Python\n",
    "\n",
    "Once you have installed python, you can now develop python program.  There are at least two ways to launch python:\n",
    "- Through terminal:\n",
    "    - Use your favorite editor to write a python program, say *testing.py*\n",
    "    - run the python program in your termina:\n",
    "        - *python testing.py*\n",
    "        - *python3 testing.py*\n",
    "        - *python2 testing.py*\n",
    "        - note that the error in running python or python3 when we don't comment out the last line\n",
    "    - launch the IDE environment:\n",
    "        - *idle*\n",
    "        - *idle3*\n",
    "        - *idle2*"
   ]
  },
  {
   "cell_type": "markdown",
   "metadata": {},
   "source": [
    "## Demo in class using *terminal* and *idle*\n",
    "\n",
    "- Show we can use Python as a calculator\n",
    "- Show the first 'hello world' Python program in IDLE\n",
    "- Show how to run a program in a terminal"
   ]
  },
  {
   "cell_type": "markdown",
   "metadata": {},
   "source": [
    "## Input and output functions in Python\n",
    "\n",
    "First, we want to know how to read/write information from the terminal.\n",
    "Let's see how we can provide input and output, which are *input()* and *print()*."
   ]
  },
  {
   "cell_type": "code",
   "execution_count": null,
   "metadata": {},
   "outputs": [],
   "source": [
    "# Show how we print in Python 3.x\n",
    "print(\"hello world !!\")\n",
    "print(\"I hate John\" + \"Lui\")\n",
    "print('I think CSCI' + \"2040\" + ' is boring.')"
   ]
  },
  {
   "cell_type": "code",
   "execution_count": null,
   "metadata": {},
   "outputs": [],
   "source": [
    "# Let's ask user for an input\n",
    "\n",
    "new_name = input(\"Please enter a name: \")    # enter a name and assign it to the variable new_name\n",
    "                                             # new_name contains a character string\n",
    "\n",
    "print(\"hello world !!\")\n",
    "print(\"I hate \" + new_name)\n",
    "print(\"I think CSCI\" + \"2040\" + \" is boring\")"
   ]
  },
  {
   "cell_type": "code",
   "execution_count": null,
   "metadata": {},
   "outputs": [],
   "source": [
    "# Let's ask user to input a name (character string) and the age (integer) of the person\n",
    "\n",
    "new_name = input(\"Please enter a name: \")                      # new_name is a character string\n",
    "age = int(input(\"Enter the age of the person above: \"))        # age is in integer\n",
    "\n",
    "print(\"hello world !!\")\n",
    "print(\"I hate \" + new_name + \", I believe he is \", age, \"years old.\")\n",
    "print(\"BTW, I think CSCI\" + \"2040\" + \" is REALLY amazing !!!\")\n"
   ]
  },
  {
   "cell_type": "markdown",
   "metadata": {},
   "source": [
    "# Formatted output\n",
    "\n",
    "Let see how we can do \"formatted\" output."
   ]
  },
  {
   "cell_type": "code",
   "execution_count": null,
   "metadata": {},
   "outputs": [],
   "source": [
    "salary = 5000.0\n",
    "working_months = 12.0\n",
    "print (salary, working_months, salary*working_months, \"poor professor.\")"
   ]
  },
  {
   "cell_type": "code",
   "execution_count": null,
   "metadata": {},
   "outputs": [],
   "source": [
    "salary = 5000.0\n",
    "working_months = 12.0\n",
    "print (salary, working_months, salary*working_months, \"poor professor!!\", sep=\", \")"
   ]
  },
  {
   "cell_type": "code",
   "execution_count": null,
   "metadata": {},
   "outputs": [],
   "source": [
    "salary = 5000.0\n",
    "working_months = 12.0\n",
    "print (salary, working_months, salary*working_months, \"don't marry a poor professor.\", sep=\" :-) \")"
   ]
  },
  {
   "cell_type": "code",
   "execution_count": null,
   "metadata": {},
   "outputs": [],
   "source": [
    "# Formatted output\n",
    "salary = 5000.0\n",
    "working_months = 12.0\n",
    "print (\"John's monthly salary is: %6.2f, he works for %3.1f months. His annual salary is %6.2f\" \n",
    "        %(salary, working_months, salary*working_months))\n",
    "print (\"What a poor dude!!!\")"
   ]
  },
  {
   "cell_type": "markdown",
   "metadata": {},
   "source": [
    "# More formatted output later."
   ]
  },
  {
   "cell_type": "markdown",
   "metadata": {},
   "source": [
    "# Optional: Jupyter and its  installation\n",
    "\n",
    "The Jupyter Notebook is an open-source web application that allows you to create and share documents <br> \n",
    "that contain live code, equations, visualizations and narrative text. \n",
    "\n",
    "To install, go to\n",
    "- http://jupyter.org\n",
    "- Follow the link of \"**Install the Notebook**\" (or http://jupyter.org/install.html)\n",
    "- You can install Jupyter (and Python) using Anaconda Distribution (https://www.anaconda.com/download/#macos)<br>\n",
    "  This includes Python, the Jupyter Notebook, and other commonly used packages for scientific computing and data science.\n",
    "- Or you can install Jupyter using *pip*. Just follow the instruction.\n",
    "- Sometimes, you may need to install some Python packages in Jupyter. Please refer:<br>    \n",
    "   - (https://jakevdp.github.io/blog/2017/12/05/installing-python-packages-from-jupyter/)"
   ]
  },
  {
   "cell_type": "markdown",
   "metadata": {},
   "source": [
    "# Comment about Python\n",
    "\n",
    "- Interpreter vs. compiler\n",
    "- Imperative vs. object-oriented vs. functional programming languages\n",
    "- demo of using Python as a simple calculator"
   ]
  },
  {
   "cell_type": "code",
   "execution_count": null,
   "metadata": {},
   "outputs": [],
   "source": []
  }
 ],
 "metadata": {
  "kernelspec": {
   "display_name": "Python 3",
   "language": "python",
   "name": "python3"
  },
  "language_info": {
   "codemirror_mode": {
    "name": "ipython",
    "version": 3
   },
   "file_extension": ".py",
   "mimetype": "text/x-python",
   "name": "python",
   "nbconvert_exporter": "python",
   "pygments_lexer": "ipython3",
   "version": "3.6.4"
  }
 },
 "nbformat": 4,
 "nbformat_minor": 2
}
