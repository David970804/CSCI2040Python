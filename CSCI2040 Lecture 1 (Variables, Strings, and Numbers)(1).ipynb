{
 "cells": [
  {
   "cell_type": "markdown",
   "metadata": {},
   "source": [
    "# Introduction to Python: Variables, Strings, and Numbers\n",
    "\n",
    "Let us try the famous \"hello world\"\n",
    "Note that we are using *\"**Python 3**\"*\n",
    "\n",
    "Created by John C.S. Lui, May 24, 2018\n",
    "\n",
    "**Important note:** *If you want to use and modify this notebook file, please acknowledge the author.*"
   ]
  },
  {
   "cell_type": "code",
   "execution_count": null,
   "metadata": {},
   "outputs": [],
   "source": [
    "print (\"Hello world, this is great, my friend\")\n",
    "print ('this is another string.')"
   ]
  },
  {
   "cell_type": "markdown",
   "metadata": {},
   "source": [
    "## Let see how we can create and assign variables"
   ]
  },
  {
   "cell_type": "code",
   "execution_count": 5,
   "metadata": {},
   "outputs": [
    {
     "name": "stdout",
     "output_type": "stream",
     "text": [
      "Hello to the wonderful world of Python,\n"
     ]
    }
   ],
   "source": [
    "message = \"Hello to the wonderful world of Python,\"    # assign a string to the variable message\n",
    "print (message)"
   ]
  },
  {
   "cell_type": "code",
   "execution_count": 6,
   "metadata": {},
   "outputs": [
    {
     "name": "stdout",
     "output_type": "stream",
     "text": [
      "Hello to the wonderful world of Python,\n",
      "and welcome to CSCI2040.\n"
     ]
    }
   ],
   "source": [
    "message2 = \"and welcome to CSCI2040.\"\n",
    "print (message)  #in jupyter, variables appeared in the last cell will inherit their values after running the last cell\n",
    "print (message2)"
   ]
  },
  {
   "cell_type": "code",
   "execution_count": null,
   "metadata": {},
   "outputs": [],
   "source": [
    "print (message, message2)          # try to print both messages in one line"
   ]
  },
  {
   "cell_type": "markdown",
   "metadata": {},
   "source": [
    "# Naming rules\n",
    "1. Variables can only contain letters, numbers, and underscores. Variable names can start with a letter or an underscore, but can not start with a number.\n",
    "2. Spaces are not allowed in variable names, so we use underscores instead of spaces. For example, use student_name instead of \"student name\".\n",
    "3. You cannot use Python keywords as variable names.\n",
    "4. Variable names should be descriptive, without being too long. For example mc_wheels is better than just \"wheels\", and number_of_wheels_on_a_motorycle.\n",
    "5. Be careful about using the lowercase letter l and the uppercase letter O in places where they could be confused with the numbers 1 and 0."
   ]
  },
  {
   "cell_type": "markdown",
   "metadata": {},
   "source": [
    "## Exercises \n",
    "* Create a variable, assign it with some value and print it out\n",
    "* Reassign the variable of some new value and print it out"
   ]
  },
  {
   "cell_type": "markdown",
   "metadata": {},
   "source": [
    "## Let's learn something about *\"strings\"*"
   ]
  },
  {
   "cell_type": "code",
   "execution_count": 1,
   "metadata": {},
   "outputs": [
    {
     "name": "stdout",
     "output_type": "stream",
     "text": [
      "STR1= a string with a double quote\n",
      "STR2= a string with a single quote\n"
     ]
    }
   ],
   "source": [
    "my_string1 = \"a string with a double quote\"\n",
    "my_string2 = 'a string with a single quote'\n",
    "print (\"STR1=\", my_string1)\n",
    "print ('STR2=', my_string2)   # let's see the output"
   ]
  },
  {
   "cell_type": "code",
   "execution_count": 2,
   "metadata": {},
   "outputs": [
    {
     "name": "stdout",
     "output_type": "stream",
     "text": [
      "Martin Luther King Jr. said, 'Free at last, free at last, thank God almighty we are free at last.'\n"
     ]
    }
   ],
   "source": [
    "# what about a string which contains a quote?\n",
    "quote = \"Martin Luther King Jr. said, 'Free at last, free at last, thank God almighty we are free at last.'\"\n",
    "print (quote)"
   ]
  },
  {
   "cell_type": "markdown",
   "metadata": {},
   "source": [
    "## Changing cases for the string"
   ]
  },
  {
   "cell_type": "code",
   "execution_count": 4,
   "metadata": {},
   "outputs": [
    {
     "name": "stdout",
     "output_type": "stream",
     "text": [
      "john\n",
      "John\n",
      "John\n",
      "JOHN\n"
     ]
    }
   ],
   "source": [
    "first_name = 'john'\n",
    "\n",
    "print(first_name)          # just print the string\n",
    "print(first_name.title())  # capitalize the first letter\n",
    "print(first_name.capitalize()) #capitalize the first letter\n",
    "print(first_name.upper())  # capitalize the whole string"
   ]
  },
  {
   "cell_type": "code",
   "execution_count": 6,
   "metadata": {},
   "outputs": [
    {
     "name": "stdout",
     "output_type": "stream",
     "text": [
      "lui\n"
     ]
    }
   ],
   "source": [
    "last_name = \"Lui\"\n",
    "\n",
    "print(last_name.lower())    # Let's be-little John"
   ]
  },
  {
   "cell_type": "markdown",
   "metadata": {},
   "source": [
    "String, turns out, is a data type with **MANY** built-in functions.\n",
    "Demonstrate in class how to look up from Python standard library, e.g., :\n",
    "\n",
    "**The Python 3 Standard Library -> 4.7. Text Sequence Type — str**\n",
    "\n",
    "Then search for, let say, 'upper'."
   ]
  },
  {
   "cell_type": "markdown",
   "metadata": {},
   "source": [
    "## How can we combine strings? Use cancatenation."
   ]
  },
  {
   "cell_type": "code",
   "execution_count": 7,
   "metadata": {},
   "outputs": [
    {
     "name": "stdout",
     "output_type": "stream",
     "text": [
      "John's first name is = john\n",
      "John's last name is  = Lui\n",
      "John's name is =  johnLui\n"
     ]
    }
   ],
   "source": [
    "print (\"John's first name is =\", first_name)\n",
    "print (\"John's last name is  =\", last_name)\n",
    "\n",
    "full_name = first_name + last_name\n",
    "'print (\"John's name is = \", full_name)"
   ]
  },
  {
   "cell_type": "code",
   "execution_count": 8,
   "metadata": {},
   "outputs": [
    {
     "name": "stdout",
     "output_type": "stream",
     "text": [
      "John's full name is =  John Lui\n"
     ]
    }
   ],
   "source": [
    "full_name1 = first_name.title() + \" \" + last_name   # capaitalize the first letter, add space\n",
    "print (\"John's full name is = \", full_name1)"
   ]
  },
  {
   "cell_type": "code",
   "execution_count": 9,
   "metadata": {},
   "outputs": [
    {
     "name": "stdout",
     "output_type": "stream",
     "text": [
      "John Lui, is a real jerk !!!!!\n"
     ]
    }
   ],
   "source": [
    "my_message = full_name1 + ', ' + \"is a real jerk !!!!!\"\n",
    "print (my_message)"
   ]
  },
  {
   "cell_type": "markdown",
   "metadata": {},
   "source": [
    "## Adding control characters into strings\n",
    "\n",
    "For example, how can we add *tab* or *line feed* into our strings?"
   ]
  },
  {
   "cell_type": "code",
   "execution_count": 1,
   "metadata": {},
   "outputs": [
    {
     "name": "stdout",
     "output_type": "stream",
     "text": [
      "John is a jerk\n",
      "John is\t a jerk\n",
      "John is\t\t\t a jerk!!!!\n",
      "But Mr. Cy Leung is even a bigger jerk !!!!!\n"
     ]
    }
   ],
   "source": [
    "print(\"John is\", \"a jerk\")    # automatically add one space using comma \",\"\n",
    "print(\"John is\\t\", \"a jerk\")  # adding a tab\n",
    "print(\"John is\\t\\t\\t\", \"a jerk!!!!\")    # adding 3 tabs\n",
    "print('But Mr. Cy Leung is even a bigger jerk !!!!!')"
   ]
  },
  {
   "cell_type": "code",
   "execution_count": 10,
   "metadata": {},
   "outputs": [
    {
     "name": "stdout",
     "output_type": "stream",
     "text": [
      "John is \n",
      " a jerk.\n",
      "\n",
      "John is\n",
      " \t\treally a jerk.\n",
      "So my advice is: \t\t\t Immediately drop the course CSCI2040 !!!!\n"
     ]
    }
   ],
   "source": [
    "print(\"John is \\n\", \"a jerk.\")     # a new line\n",
    "print(\"\\nJohn is\\n\", \"\\t\\treally a jerk.\") # a new line and some tabs\n",
    "print('So my advice is: \\t\\t\\t Immediately drop the course CSCI2040 !!!!')"
   ]
  },
  {
   "cell_type": "markdown",
   "metadata": {},
   "source": [
    "## Stripping white spaces\n",
    "\n",
    "When people input something, they may inadvertently add more \"white spaces\" than they intended to.  What should we do?"
   ]
  },
  {
   "cell_type": "code",
   "execution_count": 2,
   "metadata": {},
   "outputs": [
    {
     "name": "stdout",
     "output_type": "stream",
     "text": [
      "stripping left of the string, name=CUHK  \n",
      "stripping right of the string, name=  CUHK\n",
      "stripping both sides of the string, name=CUHK\n"
     ]
    }
   ],
   "source": [
    "name = \"  CUHK  \"      # a string with white spaces, before and after\n",
    "print(\"stripping left of the string, name=\"+ name.lstrip())   # stripping left, remove the leading characters of the string\n",
    "print(\"stripping right of the string, name=\"+ name.rstrip())   # stripping right\n",
    "print(\"stripping both sides of the string, name=\"+ name.strip())   # stripping both sides"
   ]
  },
  {
   "cell_type": "code",
   "execution_count": 3,
   "metadata": {},
   "outputs": [
    {
     "name": "stdout",
     "output_type": "stream",
     "text": [
      "stripping left of the string, name= ***CUHK  ***\n",
      "stripping right of the string, name= ***  CUHK***\n",
      "stripping both sides of the string, name= ***CUHK***\n"
     ]
    }
   ],
   "source": [
    "# a better to visualize the above functions\n",
    "name = \"  CUHK  \"      # a string with white spaces, before and after\n",
    "print(\"stripping left of the string, name=\" + \" ***\" + name.lstrip() + \"***\")   # stripping left\n",
    "print(\"stripping right of the string, name=\" +  \" ***\" + name.rstrip() + \"***\")   # stripping right\n",
    "print(\"stripping both sides of the string, name=\" +  \" ***\" + name.strip() + \"***\")   # stripping both sides"
   ]
  },
  {
   "cell_type": "markdown",
   "metadata": {},
   "source": [
    "# arguments to methods\n",
    "\n",
    "- There are many built-in methods to strings, as well as other built-in data-types.\n",
    "- For each built-in method, it may take in some arguments\n",
    "- Let's look at the documentation for lstrip() and see what it can drop\n"
   ]
  },
  {
   "cell_type": "code",
   "execution_count": 8,
   "metadata": {},
   "outputs": [
    {
     "name": "stdout",
     "output_type": "stream",
     "text": [
      "I love CUHK\n",
      "I hate HKU, it is the worst univeristy in HK.\n",
      "CUHK HKCU\n"
     ]
    }
   ],
   "source": [
    "# Instead of using the default, demonstrate passing argument to the built-in method.\n",
    "\n",
    "name = 'CUHK'\n",
    "print (\"I love\", name)\n",
    "name_1 = name.lstrip('UC')     # left strip the argument 'UC', CUHK becomes HK\n",
    "\n",
    "name_2 = name_1 + \"U\"\n",
    "print ('I hate ' + name_2 + \", it is the worst univeristy in\", name_1 + '.')\n",
    "\n",
    "a = 'CUHKCU'\n",
    "a1=a.rstrip('UC')\n",
    "a2=a.lstrip('CU')\n",
    "print(a1,a2)"
   ]
  },
  {
   "cell_type": "markdown",
   "metadata": {},
   "source": [
    "## Exercise\n",
    "Create a similar output as:\n",
    "\n",
    "Oscar Wilde, an Irish poet, once said,<br>\n",
    "   \"When I was young,<br>\n",
    "            &nbsp; &nbsp; &nbsp; I thought that money was the most important thing in life; <br>\n",
    "            &nbsp; &nbsp; &nbsp; &nbsp; &nbsp; &nbsp;  now that I am old, <br>\n",
    "            &nbsp; &nbsp; &nbsp; &nbsp; &nbsp; &nbsp; &nbsp; &nbsp; &nbsp; I know that it is.\"<br>"
   ]
  },
  {
   "cell_type": "markdown",
   "metadata": {},
   "source": [
    "## Exercise\n",
    "* Store your first name in a variable, but include  two different kinds of whitespace on each side of your name.\n",
    "* Print your name as it is stored.\n",
    "* Print your name with whitespace stripped from the left side, then from the right side, then from both sides."
   ]
  },
  {
   "cell_type": "code",
   "execution_count": 14,
   "metadata": {},
   "outputs": [
    {
     "name": "stdout",
     "output_type": "stream",
     "text": [
      "* \tcu\t *\n",
      "*cu\t *\n",
      "*cu*\n"
     ]
    }
   ],
   "source": [
    "cu=\" \\tcu\\t \"\n",
    "print(\"*\"+cu+\"*\")\n",
    "cu1=cu.lstrip()\n",
    "print(\"*\"+cu1+\"*\")\n",
    "cu2=cu1.rstrip()\n",
    "print(\"*\"+cu2+\"*\") #by default, strip removes all whitespaces"
   ]
  },
  {
   "cell_type": "markdown",
   "metadata": {},
   "source": [
    "# Numbers and numerics"
   ]
  },
  {
   "cell_type": "markdown",
   "metadata": {},
   "source": [
    "### Integers"
   ]
  },
  {
   "cell_type": "code",
   "execution_count": 16,
   "metadata": {},
   "outputs": [
    {
     "name": "stdout",
     "output_type": "stream",
     "text": [
      "3\n",
      "1\n",
      "10\n",
      "2.0\n",
      "16\n"
     ]
    }
   ],
   "source": [
    "print (1+2)   # addition\n",
    "print (3-2)   # subtraction\n",
    "print (5*2)   # multiplication\n",
    "print (8/4)   # division\n",
    "print (2**4)  # exponentiation "
   ]
  },
  {
   "cell_type": "code",
   "execution_count": 15,
   "metadata": {},
   "outputs": [
    {
     "name": "stdout",
     "output_type": "stream",
     "text": [
      "3.0\n",
      "1.0\n",
      "10.0\n",
      "2.0\n",
      "16.0\n"
     ]
    }
   ],
   "source": [
    "print (1+2.)   # addition\n",
    "print (3.-2)   # subtraction\n",
    "print (5*2.)   # multiplication\n",
    "print (8/4)    # division\n",
    "print (2.0**4)  # exponentiation "
   ]
  },
  {
   "cell_type": "code",
   "execution_count": null,
   "metadata": {},
   "outputs": [],
   "source": [
    "# Use parenthesis to modify the standard order of operations.\n",
    "print (2+3*4)\n",
    "print ((2+3)*4)"
   ]
  },
  {
   "cell_type": "markdown",
   "metadata": {},
   "source": [
    "### Floating points"
   ]
  },
  {
   "cell_type": "code",
   "execution_count": 17,
   "metadata": {},
   "outputs": [
    {
     "name": "stdout",
     "output_type": "stream",
     "text": [
      "0.2\n",
      "0.30000000000000004\n"
     ]
    }
   ],
   "source": [
    "print (0.1+0.1)\n",
    "print (0.1+0.2)"
   ]
  },
  {
   "cell_type": "markdown",
   "metadata": {},
   "source": [
    "# Division in Python 2.7 and Python 3.3\n",
    "\n",
    "- In Python 2.7; print 3/2 will give you 1\n",
    "- In Python 3.3, print 3/2 will give you 1.5"
   ]
  },
  {
   "cell_type": "markdown",
   "metadata": {},
   "source": [
    "## Some common operators: +, -, *, **, /, //, %\n",
    "\n",
    "Let's illustrate some common operators when they are applied to different data types"
   ]
  },
  {
   "cell_type": "code",
   "execution_count": null,
   "metadata": {},
   "outputs": [],
   "source": [
    "print(3+5)                 # adding two integers\n",
    "print(3. + 5)              # type conversion\n",
    "print('Aaa' + 'Bbbbbb' +'CCC')      # cancatenation"
   ]
  },
  {
   "cell_type": "code",
   "execution_count": 1,
   "metadata": {},
   "outputs": [
    {
     "name": "stdout",
     "output_type": "stream",
     "text": [
      "-5.2\n",
      "2\n",
      "6\n",
      "LuLu\n",
      "81\n",
      "81.0\n",
      "1.6666666666666667\n",
      "1.6666666666666667\n",
      "1\n",
      "1.0\n",
      "2\n",
      "2.0\n"
     ]
    }
   ],
   "source": [
    "print(-5.2)          # gives a negative number\n",
    "print(5-3)\n",
    "print(2*3)\n",
    "print('Lu'*2)        # generate character strings \n",
    "print(3**4)          # power\n",
    "print (3.0**4.)\n",
    "print(5/3)\n",
    "print(5/3.)\n",
    "print(4//3)           # gives floor\n",
    "print(5.0//3.)\n",
    "print (17 % 3)        # gives remainder\n",
    "print (17. % 3)"
   ]
  },
  {
   "cell_type": "code",
   "execution_count": 18,
   "metadata": {},
   "outputs": [
    {
     "name": "stdout",
     "output_type": "stream",
     "text": [
      "stuff is of type:  <class 'str'>\n",
      "num1 is of type:  <class 'int'>\n",
      "num2 is of type:  <class 'float'>\n"
     ]
    }
   ],
   "source": [
    "stuff = 'hello world'\n",
    "type(stuff)    # see what type is this variable\n",
    "num1 = 12\n",
    "num2 = 12.\n",
    "print ('stuff is of type: ', type(stuff))\n",
    "print ('num1 is of type: ', type(num1))\n",
    "print ('num2 is of type: ', type(num2))"
   ]
  },
  {
   "cell_type": "code",
   "execution_count": 3,
   "metadata": {
    "scrolled": true
   },
   "outputs": [
    {
     "data": {
      "text/plain": [
       "['__add__',\n",
       " '__class__',\n",
       " '__contains__',\n",
       " '__delattr__',\n",
       " '__dir__',\n",
       " '__doc__',\n",
       " '__eq__',\n",
       " '__format__',\n",
       " '__ge__',\n",
       " '__getattribute__',\n",
       " '__getitem__',\n",
       " '__getnewargs__',\n",
       " '__gt__',\n",
       " '__hash__',\n",
       " '__init__',\n",
       " '__init_subclass__',\n",
       " '__iter__',\n",
       " '__le__',\n",
       " '__len__',\n",
       " '__lt__',\n",
       " '__mod__',\n",
       " '__mul__',\n",
       " '__ne__',\n",
       " '__new__',\n",
       " '__reduce__',\n",
       " '__reduce_ex__',\n",
       " '__repr__',\n",
       " '__rmod__',\n",
       " '__rmul__',\n",
       " '__setattr__',\n",
       " '__sizeof__',\n",
       " '__str__',\n",
       " '__subclasshook__',\n",
       " 'capitalize',\n",
       " 'casefold',\n",
       " 'center',\n",
       " 'count',\n",
       " 'encode',\n",
       " 'endswith',\n",
       " 'expandtabs',\n",
       " 'find',\n",
       " 'format',\n",
       " 'format_map',\n",
       " 'index',\n",
       " 'isalnum',\n",
       " 'isalpha',\n",
       " 'isdecimal',\n",
       " 'isdigit',\n",
       " 'isidentifier',\n",
       " 'islower',\n",
       " 'isnumeric',\n",
       " 'isprintable',\n",
       " 'isspace',\n",
       " 'istitle',\n",
       " 'isupper',\n",
       " 'join',\n",
       " 'ljust',\n",
       " 'lower',\n",
       " 'lstrip',\n",
       " 'maketrans',\n",
       " 'partition',\n",
       " 'replace',\n",
       " 'rfind',\n",
       " 'rindex',\n",
       " 'rjust',\n",
       " 'rpartition',\n",
       " 'rsplit',\n",
       " 'rstrip',\n",
       " 'split',\n",
       " 'splitlines',\n",
       " 'startswith',\n",
       " 'strip',\n",
       " 'swapcase',\n",
       " 'title',\n",
       " 'translate',\n",
       " 'upper',\n",
       " 'zfill']"
      ]
     },
     "execution_count": 3,
     "metadata": {},
     "output_type": "execute_result"
    }
   ],
   "source": [
    "dir(stuff)     # show all built-in functions of tyis type"
   ]
  },
  {
   "cell_type": "code",
   "execution_count": 19,
   "metadata": {},
   "outputs": [
    {
     "name": "stdout",
     "output_type": "stream",
     "text": [
      "Help on built-in function capitalize:\n",
      "\n",
      "capitalize(...) method of builtins.str instance\n",
      "    S.capitalize() -> str\n",
      "    \n",
      "    Return a capitalized version of S, i.e. make the first character\n",
      "    have upper case and the rest lower case.\n",
      "\n",
      "Hello world\n",
      "Hello World\n",
      "Help on built-in function lstrip:\n",
      "\n",
      "lstrip(...) method of builtins.str instance\n",
      "    S.lstrip([chars]) -> str\n",
      "    \n",
      "    Return a copy of the string S with leading whitespace removed.\n",
      "    If chars is given and not None, remove characters in chars instead.\n",
      "\n"
     ]
    }
   ],
   "source": [
    "help(stuff.capitalize)    # show the meaning of the capitalize function\n",
    "print(stuff.capitalize())\n",
    "print(stuff.title())\n",
    "help(stuff.lstrip)"
   ]
  },
  {
   "cell_type": "markdown",
   "metadata": {},
   "source": [
    "# Comments\n",
    "\n",
    "\\# This line is a comment.<br>\n",
    "Note that # can also be put after a computational statement<br><br>\n",
    "\n",
    "## Good pratices for comments\n",
    "* It is short and to the point, but a complete thought.\n",
    "* It explains your thinking, so that when you return to the code later you will understand how you were approaching the problem.\n",
    "* It explains your thinking, so that others who work with your code will understand your overall approach.\n",
    "* It explains particularly difficult sections of code in detail."
   ]
  },
  {
   "cell_type": "markdown",
   "metadata": {},
   "source": [
    "# The Zen of Python, by Tim Peters\n",
    "\n",
    "\n",
    "Beautiful is better than ugly.<br>\n",
    "Explicit is better than implicit.<br>\n",
    "Simple is better than complex.<br>\n",
    "Complex is better than complicated.<br>\n",
    "Flat is better than nested.<br>\n",
    "Sparse is better than dense.<br>\n",
    "Readability counts.<br>\n",
    "Special cases aren't special enough to break the rules.<br>\n",
    "Although practicality beats purity.<br>\n",
    "Errors should never pass silently.<br>\n",
    "Unless explicitly silenced.<br>\n",
    "In the face of ambiguity, refuse the temptation to guess.<br>\n",
    "There should be one-- and preferably only one --obvious way to do it.<br>\n",
    "Although that way may not be obvious at first unless you're Dutch.<br>\n",
    "Now is better than never.<br>\n",
    "Although never is often better than *right* now.<br>\n",
    "If the implementation is hard to explain, it's a bad idea.<br>\n",
    "If the implementation is easy to explain, it may be a good idea.<br>\n",
    "Namespaces are one honking great idea -- let's do more of those!"
   ]
  },
  {
   "cell_type": "code",
   "execution_count": null,
   "metadata": {},
   "outputs": [],
   "source": []
  }
 ],
 "metadata": {
  "kernelspec": {
   "display_name": "Python 3",
   "language": "python",
   "name": "python3"
  },
  "language_info": {
   "codemirror_mode": {
    "name": "ipython",
    "version": 3
   },
   "file_extension": ".py",
   "mimetype": "text/x-python",
   "name": "python",
   "nbconvert_exporter": "python",
   "pygments_lexer": "ipython3",
   "version": "3.6.5"
  }
 },
 "nbformat": 4,
 "nbformat_minor": 2
}
