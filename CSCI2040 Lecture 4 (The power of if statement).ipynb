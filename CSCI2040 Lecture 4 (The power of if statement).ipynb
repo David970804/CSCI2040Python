{
 "cells": [
  {
   "cell_type": "markdown",
   "metadata": {},
   "source": [
    "# The power of *if* statement\n",
    "In this lecture, we will learn the conditional statement *if*, <br>\n",
    "It is a conditional statement that test for some condition, and execute some codes accordingly. <br>\n",
    "Let's see some examples.\n",
    "\n",
    "**Created by:** John C.S. Lui on May 25, 2018.\n",
    "\n",
    "**Important note:** *If you want to use and modify this notebook file, please acknowledge the author.*"
   ]
  },
  {
   "cell_type": "code",
   "execution_count": null,
   "metadata": {},
   "outputs": [],
   "source": [
    "# Create a list of CS subjects\n",
    "cs_subjects = ['networks', 'machine learning', 'ai', 'programming languages', 'distributed systems', 'theory']\n",
    "favorite_subject = 'machine learning'\n",
    "\n",
    "for subject in cs_subjects:\n",
    "    if subject == favorite_subject:        # condition if.   Note that we need the ':'\n",
    "        print('My favorite subject is:', subject.title())\n",
    "    else:                                  # Takes the 'false' condition, note that we need ':'\n",
    "        print('I hate %s' %subject.title())"
   ]
  },
  {
   "cell_type": "code",
   "execution_count": null,
   "metadata": {},
   "outputs": [],
   "source": [
    "# Create a list of CS subjects\n",
    "cs_subjects = ['networks', 'machine learning', 'ai', 'programming languages', 'distributed systems', 'theory']\n",
    "favorite_subject = ['machine learning', 'networks', 'theory']   # change it to a list\n",
    "\n",
    "for subject in cs_subjects:\n",
    "    if subject in favorite_subject:        # condition if.   Check whether subject's membership in the list\n",
    "        print('My favorite subject is:', subject.title())\n",
    "    else:                                  # Takes the 'false' condition, note that we need ':'\n",
    "        print('I hate %s' %subject.title())"
   ]
  },
  {
   "cell_type": "markdown",
   "metadata": {},
   "source": [
    "## Logical comparison operators\n",
    "In Python, we have the following:\n",
    "- equality (==)\n",
    "- inequlaity (!=)\n",
    "- greater than (>)\n",
    "- greater than or equal to (>=)\n",
    "- less than (<)\n",
    "- less than or equal to (<=)\n",
    "- and operator (and)\n",
    "- or operator (or)"
   ]
  },
  {
   "cell_type": "code",
   "execution_count": null,
   "metadata": {},
   "outputs": [],
   "source": [
    "# Let's try some of this logical comparison and print out their return values\n",
    "print (\"1.\", 3==3)\n",
    "print (\"2.\", 5==8)\n",
    "print (\"3.\", 1==1.0)\n",
    "print (\"4.\", 'John'=='John')\n",
    "print (\"5.\", 'John'=='john')\n",
    "print (\"6.\", 'John'.lower() =='john')\n",
    "print (\"7.\", '4' == str(4))"
   ]
  },
  {
   "cell_type": "code",
   "execution_count": null,
   "metadata": {},
   "outputs": [],
   "source": [
    "# Let's try the \">=\" operator\n",
    "print (\"1.\", 10 >= 8)\n",
    "print (\"2.\", 10 >= 80)\n",
    "print (\"3.\", 10 >= 10)"
   ]
  },
  {
   "cell_type": "code",
   "execution_count": null,
   "metadata": {},
   "outputs": [],
   "source": [
    "# Let's try \"<\" operator\n",
    "print (\"1.\", 10 < 8)\n",
    "print (\"2.\", 1  < 3.0)"
   ]
  },
  {
   "cell_type": "code",
   "execution_count": null,
   "metadata": {},
   "outputs": [],
   "source": [
    "# Let's try \"<=\" operator\n",
    "print (\"1.\", 10 <= 8)\n",
    "print (\"2.\", 1  <= 3.0)"
   ]
  },
  {
   "cell_type": "code",
   "execution_count": null,
   "metadata": {},
   "outputs": [],
   "source": [
    "print(\"1.\", 8 <= 10 and 5 < 10)\n",
    "print(\"2.\", 8 <= 10 and 5 > 10)\n",
    "print(\"3.\", 10 <= 8 or 10 > 5)"
   ]
  },
  {
   "cell_type": "markdown",
   "metadata": {},
   "source": [
    "## Let's check whether an item is in the list"
   ]
  },
  {
   "cell_type": "code",
   "execution_count": null,
   "metadata": {},
   "outputs": [],
   "source": [
    "# Define a list\n",
    "list_number = [0, 1, 3, 'john', 4, 'peter', 'paul']\n",
    "\n",
    "if 'john' in list_number:\n",
    "    print ('It is in the list')\n",
    "else:\n",
    "    print ('Not in the list')"
   ]
  },
  {
   "cell_type": "markdown",
   "metadata": {},
   "source": [
    "### Simple <i> if </i> statement"
   ]
  },
  {
   "cell_type": "code",
   "execution_count": null,
   "metadata": {},
   "outputs": [],
   "source": [
    "list_number = [0, 1, 3, 'john', 4, 'peter', 'paul']\n",
    "if len(list_number) >= 3:\n",
    "    print('The length of \"list_number\" is at least 3')"
   ]
  },
  {
   "cell_type": "markdown",
   "metadata": {},
   "source": [
    "## Simpe <i> if-else </i> statement"
   ]
  },
  {
   "cell_type": "code",
   "execution_count": null,
   "metadata": {},
   "outputs": [],
   "source": [
    "list_number = [0, 1, 3, 'john', 4, 'peter', 'paul']\n",
    "if len(list_number) <= 3:\n",
    "    print('The length of \"list_number\" is less than or equal to 3')\n",
    "else:\n",
    "    print('The length of \"list_number\" is greater than 3')"
   ]
  },
  {
   "cell_type": "markdown",
   "metadata": {},
   "source": [
    "## The <i> if-elif .... else </i> chain\n",
    "This is useful if you want to test <i> a series </i> of conditions. <br>\n",
    "In an <i>if-elif-else</i> chain, once a test passes, the rest of the conditions are ignored."
   ]
  },
  {
   "cell_type": "code",
   "execution_count": null,
   "metadata": {},
   "outputs": [],
   "source": [
    "# Define a list\n",
    "list_number = [0, 1, 3, 'john', 4, 'peter', 'paul']\n",
    "\n",
    "if len(list_number) == 0:\n",
    "    print('There is no item in the list')\n",
    "elif len(list_number) <= 3:\n",
    "    print('There is at least one and at most 3 items in the list.')\n",
    "elif len(list_number) <= 7:\n",
    "    print('There is at least 4 and at most 7 items in the list')\n",
    "else:\n",
    "    print('There is greater than 7 items in the list')\n",
    "    "
   ]
  },
  {
   "cell_type": "markdown",
   "metadata": {},
   "source": [
    "## Question\n",
    "What is the difference between <i> if-elif </i> and a series of many <i> if </i> ?"
   ]
  },
  {
   "cell_type": "markdown",
   "metadata": {},
   "source": [
    "## Exercise\n",
    "Write a program to first prompt the user for an input (hint: look up the function <i> input() </i>) for a day.<br>\n",
    "Then create a list with all 7 days (assume you only use lower case). <br>\n",
    "    Use <i> if... elif </i> to test whether the input day is a weekday or weekend. <br>\n",
    "    Print out whether the input is a weekeday or weekend or an input error."
   ]
  },
  {
   "cell_type": "markdown",
   "metadata": {},
   "source": [
    "## Going through a series of test\n",
    "What if you want to run a series of test?  Let's try."
   ]
  },
  {
   "cell_type": "code",
   "execution_count": null,
   "metadata": {},
   "outputs": [],
   "source": [
    "# define a function\n",
    "def print_message (subject, flag):\n",
    "    if flag==True:\n",
    "        print(\"For \" + subject.title() + \", it is John's favorite subject.\")\n",
    "    else:\n",
    "        print(\"For \" + subject.title() + \", it is definitely not John's favorite subject.\")\n",
    "\n",
    "# define a list\n",
    "cs_subjects = ['networks', 'machine learning', 'ai', 'programming languages', 'distributed systems', 'theory']\n",
    "\n",
    "for subject in cs_subjects:\n",
    "    if subject == 'networks':\n",
    "        print_message(subject, True)\n",
    "    if subject == 'machine learning':\n",
    "        print_message(subject, True)\n",
    "    if subject == 'ai':\n",
    "        print_message(subject, False)\n",
    "    if subject == 'programming languages':\n",
    "        print_message(subject, False)\n",
    "    if subject == 'distributed systems':\n",
    "        print_message(subject, True)\n",
    "    if subject == 'theory':\n",
    "        print_message(subject, True)\n",
    "        "
   ]
  },
  {
   "cell_type": "code",
   "execution_count": null,
   "metadata": {},
   "outputs": [],
   "source": [
    "## Let's see how we can write a simply code\n",
    "# define a function\n",
    "def print_message (subject, flag):\n",
    "    if flag==True:\n",
    "        print(\"For \" + subject.title() + \", it is John's favorite subject.\")\n",
    "    else:\n",
    "        print(\"For \" + subject.title() + \", it is definitely not John's favorite subject.\")\n",
    "\n",
    "# define a list\n",
    "cs_subjects = ['networks', 'machine learning', 'ai', 'programming languages', 'distributed systems', 'theory']\n",
    "\n",
    "favorite_subjects = ['networks', 'machine learning', 'distributed systems', 'theory']\n",
    "\n",
    "for subject in cs_subjects:\n",
    "    if subject in favorite_subjects:\n",
    "        print_message(subject, True)\n",
    "    else:\n",
    "        print_message(subject, False)\n",
    "        "
   ]
  },
  {
   "cell_type": "markdown",
   "metadata": {},
   "source": [
    "## True and False values\n",
    "In general, any **non-zero** or **non-empty** value will be evaluated as True.  Let check."
   ]
  },
  {
   "cell_type": "code",
   "execution_count": null,
   "metadata": {},
   "outputs": [],
   "source": [
    "# Define a list\n",
    "number_list1 = [-3, -2, -1, 0, 1, 2, 3]\n",
    "number_list2 = [-3.0, -2.0, -1.0, 0.0, 1.0, 2.0, 3.0]\n",
    "\n",
    "# Let's test\n",
    "for number in number_list1:\n",
    "    if number:\n",
    "        print(\"For\", number, \"it is True.\")\n",
    "    else:\n",
    "        print(\"For\", number, \"it is False.\")\n",
    "print (\"----------------\")\n",
    "\n",
    "# Let's test\n",
    "for number in number_list2:\n",
    "    if number:\n",
    "        print(\"For\", number, \"it is True.\")\n",
    "    else:\n",
    "        print(\"For\", number, \"it is False.\")\n",
    "\n",
    "print (\"----------------\")\n",
    "\n",
    "if '':\n",
    "    print (\"*** It is True.\")\n",
    "else:\n",
    "    print (\"*** It is False\")\n",
    "    \n",
    "print (\"----------------\")\n",
    "\n",
    "if ' ':   # This is a space, so it is non-empyt\n",
    "    print (\"*** It is True.\")\n",
    "else:\n",
    "    print (\"*** It is False\")\n",
    "    \n",
    "print (\"----------------\")\n",
    "\n",
    "if None:   # None is a special object in Python. It evaluates to False.\n",
    "    print (\"*** It is True.\")\n",
    "else:\n",
    "    print (\"*** It is False.\")"
   ]
  },
  {
   "cell_type": "code",
   "execution_count": null,
   "metadata": {},
   "outputs": [],
   "source": []
  }
 ],
 "metadata": {
  "kernelspec": {
   "display_name": "Python 3",
   "language": "python",
   "name": "python3"
  },
  "language_info": {
   "codemirror_mode": {
    "name": "ipython",
    "version": 3
   },
   "file_extension": ".py",
   "mimetype": "text/x-python",
   "name": "python",
   "nbconvert_exporter": "python",
   "pygments_lexer": "ipython3",
   "version": "3.6.4"
  }
 },
 "nbformat": 4,
 "nbformat_minor": 2
}
