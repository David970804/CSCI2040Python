{
 "cells": [
  {
   "cell_type": "markdown",
   "metadata": {},
   "source": [
    "# Numpy & Scipy\n",
    "\n",
    "Created by John C.S. Lui, June 2, 2018.\n",
    "\n",
    "**Important note:** *If you want to use and modify this notebook file, please acknowledge the author.*"
   ]
  },
  {
   "cell_type": "markdown",
   "metadata": {},
   "source": [
    "## NumPy & SciPy\n",
    "- NumPy and SciPy are open-source add-on modules to Python that provide common mathematical and numerical routines in pre-compiled, fast functions.\n",
    "- **NumPy** (Numeric Python) package provides basic routines for manipulating large arrays and matrices of numeric data \n",
    "- **SciPy** (Scientific Python) package extends the functionality of NumPy with a substantial collection of useful algorithms, like minimization, Fourier transformation, regression, and other applied mathematical techniques\n",
    "\n"
   ]
  },
  {
   "cell_type": "markdown",
   "metadata": {},
   "source": [
    "## Scientific Python building blocks\n",
    "- **Python**\n",
    "- **Jupyter**: An advanced interative web tool\n",
    "- **Numpy** : provides powerful numerical arrays objects, and routines to manipulate them. http://www.numpy.org/\n",
    "- **Scipy** : high-level data processing routines. Optimization, regression, interpolation, etc http://www.scipy.org/\n",
    "- **Matplotlib** : 2-D visualization, “publication-ready” plots http://matplotlib.org/\n",
    "- **Mayavi** : 3-D visualization http://code.enthought.com/projects/mayavi/"
   ]
  },
  {
   "cell_type": "markdown",
   "metadata": {},
   "source": [
    "## NumPy basic\n",
    "\n",
    "- **NumPy’s** main object is the homogeneous multidimensional array. It is a table of elements (usually numbers), all of the same type, indexed by a tuple of positive integers. \n",
    "- In Numpy dimensions are called **axes**. The number of axes is **rank**.\n",
    "- E.g., the coordinates of a point in 3D space [1, 2, 1] is an array of rank 1, because it has one axis.\n",
    "- That axis has a length of 3.\n",
    "- Let say we  have the following array: [[1.0, 1.0, 2.0], [0.0, 2.0, 1.0]]\n",
    "     * It has rank of 2 (or 2 dimensions)\n",
    "     * Its first dimension (or axis) has a length of 2\n",
    "     * It second dimension (or axis) has a length of 3\n",
    "     \n",
    "## Importing NumPy module\n",
    "- Several ways:\n",
    "    * **immport numpy**\n",
    "    * **import numpy as np**\n",
    "    * **from numpy import * **\n",
    "    \n",
    "- The basic building block of Numpy is **array**\n",
    "- Arrays are similar to lists in Python, the function array takes two arguments: \n",
    "    * the list to be converted into the array and,\n",
    "    * the type of each member of the list\n"
   ]
  },
  {
   "cell_type": "code",
   "execution_count": 1,
   "metadata": {},
   "outputs": [
    {
     "name": "stdout",
     "output_type": "stream",
     "text": [
      "[1. 4. 5. 8.]\n",
      "<class 'numpy.ndarray'>\n"
     ]
    }
   ],
   "source": [
    "import numpy as np\n",
    "a  = np.array([1, 4, 5, 8], float)\n",
    "print(a)\n",
    "print (type(a))"
   ]
  },
  {
   "cell_type": "code",
   "execution_count": 2,
   "metadata": {},
   "outputs": [
    {
     "name": "stdout",
     "output_type": "stream",
     "text": [
      "[1. 4.]\n",
      "8.0\n",
      "[  1.   4.   5. 100.]\n"
     ]
    }
   ],
   "source": [
    "# We can index array just like we have done to list in Python\n",
    "print(a[:2])\n",
    "print(a[3])\n",
    "a[3] = 100.0\n",
    "print(a)"
   ]
  },
  {
   "cell_type": "code",
   "execution_count": 3,
   "metadata": {},
   "outputs": [
    {
     "name": "stdout",
     "output_type": "stream",
     "text": [
      "a = [[1. 2. 3.]\n",
      " [4. 5. 6.]]\n",
      "a = [[15.  2.  3.]\n",
      " [12.  5.  6.]]\n"
     ]
    }
   ],
   "source": [
    "# Let's try higher dimensional array\n",
    "a = np.array([[1,2,3], [4,5,6]], float)  # define 2x3 array\n",
    "print ('a =', a)\n",
    "a[0,0] = 15.0   # we can re-assign elements in the array\n",
    "a[1,0] = 12.0\n",
    "print('a =',a)"
   ]
  },
  {
   "cell_type": "code",
   "execution_count": 6,
   "metadata": {
    "scrolled": true
   },
   "outputs": [
    {
     "name": "stdout",
     "output_type": "stream",
     "text": [
      "a[1,:]= [4. 5. 6.]\n",
      "a[:,2]= [3. 6.]\n",
      "a[-1:,-2:] = [[5. 6.]]\n"
     ]
    }
   ],
   "source": [
    "# we can even using slicing\n",
    "a = np.array([[1,2,3], [4,5,6]], float)  # define 2x3 array\n",
    "print('a[1,:]=', a[1,:])\n",
    "print('a[:,2]=', a[:,2])\n",
    "print('a[-1:,-2:] =', a[-1:, -2:])"
   ]
  },
  {
   "cell_type": "markdown",
   "metadata": {},
   "source": [
    "## Methods on Array\n",
    "\n",
    "Let's consider some useful **methods** which we can apply to array"
   ]
  },
  {
   "cell_type": "code",
   "execution_count": 6,
   "metadata": {},
   "outputs": [
    {
     "name": "stdout",
     "output_type": "stream",
     "text": [
      "(2, 3)\n"
     ]
    }
   ],
   "source": [
    "# To find out the \"dimension\" of an array\n",
    "a = np.array([[1,2,3], [4,5,6]], float)  # define 2x3 array\n",
    "\n",
    "print(a.shape)"
   ]
  },
  {
   "cell_type": "code",
   "execution_count": 7,
   "metadata": {},
   "outputs": [
    {
     "name": "stdout",
     "output_type": "stream",
     "text": [
      "float64\n"
     ]
    }
   ],
   "source": [
    "# To find out the \"type\" of an array\n",
    "print (a.dtype)"
   ]
  },
  {
   "cell_type": "code",
   "execution_count": 10,
   "metadata": {},
   "outputs": [
    {
     "name": "stdout",
     "output_type": "stream",
     "text": [
      "length of the first axis = 2\n",
      "length of the second axis = 3\n",
      "6\n"
     ]
    }
   ],
   "source": [
    "# To find out the length of the first axis:\n",
    "print('length of the first axis =', len(a))\n",
    "print('length of the second axis =', len(a[0]))  # length of the 2nd axis\n",
    "print(a.size)"
   ]
  },
  {
   "cell_type": "code",
   "execution_count": 10,
   "metadata": {},
   "outputs": [
    {
     "name": "stdout",
     "output_type": "stream",
     "text": [
      "Is 2 in a?  True\n",
      "Is 9 in a?  False\n"
     ]
    }
   ],
   "source": [
    "# To test whether an element is in the array\n",
    "a = np.array([[1,2,3], [4,5,6]], float)  # define 2x3 array\n",
    "\n",
    "print (\"Is 2 in a? \", 2 in a)  # test  for membership\n",
    "print (\"Is 9 in a? \", 9 in a)"
   ]
  },
  {
   "cell_type": "code",
   "execution_count": 11,
   "metadata": {},
   "outputs": [
    {
     "name": "stdout",
     "output_type": "stream",
     "text": [
      "float a = [0. 1. 2. 3. 4. 5. 6. 7. 8. 9.]\n",
      "integer a =  [[0 1 2]\n",
      " [0 1 2]]\n"
     ]
    }
   ],
   "source": [
    "# To generate an array of numbers using the function range()\n",
    "a = np.array(range(10), float)  # generate float array with a single item\n",
    "print('float a =', a)\n",
    "\n",
    "a = np.array([range(3), range(3)], int) # generate integer array with 2 items\n",
    "print('integer a = ', a)"
   ]
  },
  {
   "cell_type": "code",
   "execution_count": 12,
   "metadata": {},
   "outputs": [
    {
     "name": "stdout",
     "output_type": "stream",
     "text": [
      "Before reshape(), a = [0. 1. 2. 3. 4. 5. 6. 7. 8. 9.]\n",
      "After 1st reshape(), a = [[0. 1. 2. 3. 4.]\n",
      " [5. 6. 7. 8. 9.]]\n",
      "After 2nd reshape(), a = [[0. 1.]\n",
      " [2. 3.]\n",
      " [4. 5.]\n",
      " [6. 7.]\n",
      " [8. 9.]]\n"
     ]
    }
   ],
   "source": [
    "# use reshape() method to re-arrange an array\n",
    "a = np.array(range(10), float)\n",
    "print('Before reshape(), a =', a)\n",
    "\n",
    "# reshape array a\n",
    "a = a.reshape(2,5)\n",
    "print('After 1st reshape(), a =', a)\n",
    "\n",
    "# reshape array a\n",
    "a = a.reshape(5,2)\n",
    "print('After 2nd reshape(), a =', a)"
   ]
  },
  {
   "cell_type": "markdown",
   "metadata": {},
   "source": [
    "# Array assignment is just a reference copy\n",
    "\n",
    "Note that in NumPy, array assignment is just a reference copy."
   ]
  },
  {
   "cell_type": "code",
   "execution_count": null,
   "metadata": {},
   "outputs": [],
   "source": [
    "a = np.array(range(5), float)\n",
    "b = a\n",
    "print ('a=', a, 'b=', b)\n",
    "\n",
    "a[0] = 10.0   # reassign an item in a\n",
    "print ('a=', a, 'b=', b)"
   ]
  },
  {
   "cell_type": "markdown",
   "metadata": {},
   "source": [
    "## If we want to have another array, use copy method"
   ]
  },
  {
   "cell_type": "code",
   "execution_count": 13,
   "metadata": {},
   "outputs": [
    {
     "name": "stdout",
     "output_type": "stream",
     "text": [
      "Before: a= [0. 1. 2. 3. 4.] b= [0. 1. 2. 3. 4.] c= [0. 1. 2. 3. 4.]\n",
      "After:  a= [10.  1.  2.  3.  4.] b= [10.  1.  2.  3.  4.] c= [0. 1. 2. 3. 4.]\n"
     ]
    }
   ],
   "source": [
    "a = np.array(range(5), float)\n",
    "b = a\n",
    "c = a.copy()\n",
    "print ('Before:', 'a=', a, 'b=', b, 'c=', c)\n",
    "\n",
    "a[0] = 10.0   # reassign an item in a\n",
    "print ('After: ', 'a=', a, 'b=', b, 'c=',c)"
   ]
  },
  {
   "cell_type": "markdown",
   "metadata": {},
   "source": [
    "## Define an array and fill it with some entries"
   ]
  },
  {
   "cell_type": "code",
   "execution_count": 14,
   "metadata": {},
   "outputs": [
    {
     "name": "stdout",
     "output_type": "stream",
     "text": [
      "a = [0. 1. 2. 3. 4.]\n",
      "a = [0. 0. 0. 0. 0.]\n",
      "a = [100. 100. 100. 100. 100.]\n"
     ]
    }
   ],
   "source": [
    "a = np.array(range(5), float)\n",
    "print('a =', a)\n",
    "a.fill(0)   # use fill method to initialize the array\n",
    "print('a =', a)\n",
    "a.fill(100.0)\n",
    "print('a =', a)"
   ]
  },
  {
   "cell_type": "code",
   "execution_count": 15,
   "metadata": {},
   "outputs": [
    {
     "name": "stdout",
     "output_type": "stream",
     "text": [
      "a = [[0 1 2]\n",
      " [0 1 2]]\n",
      "a = [[0 0 0]\n",
      " [0 0 0]]\n",
      "a = [[100 100 100]\n",
      " [100 100 100]]\n"
     ]
    }
   ],
   "source": [
    "a = np.array([range(3), range(3)], int)  # generate array with 2 items\n",
    "print('a =', a)\n",
    "a.fill(0)   # use fill method to initialize the array\n",
    "print('a =', a)\n",
    "a.fill(100.0)\n",
    "print('a =', a)"
   ]
  },
  {
   "cell_type": "markdown",
   "metadata": {},
   "source": [
    "## Transpose method"
   ]
  },
  {
   "cell_type": "code",
   "execution_count": 16,
   "metadata": {},
   "outputs": [
    {
     "name": "stdout",
     "output_type": "stream",
     "text": [
      "a = [[0 1 2 3 4]\n",
      " [0 1 2 3 4]]\n",
      "a = [[0 0]\n",
      " [1 1]\n",
      " [2 2]\n",
      " [3 3]\n",
      " [4 4]]\n"
     ]
    }
   ],
   "source": [
    "a = np.array([range(5), range(5)], int)  # generate array with 2 items\n",
    "print('a =', a)\n",
    "\n",
    "a = a.transpose()\n",
    "print('a =', a)\n",
    "\n"
   ]
  },
  {
   "cell_type": "markdown",
   "metadata": {},
   "source": [
    "## Concatenate method"
   ]
  },
  {
   "cell_type": "code",
   "execution_count": 28,
   "metadata": {},
   "outputs": [
    {
     "name": "stdout",
     "output_type": "stream",
     "text": [
      "a = [1. 2.]\n",
      "b = [3. 4. 5.]\n",
      "c = [ 7  8  9 10]\n",
      "d = [ 1.  2.  3.  4.  5.  7.  8.  9. 10.]\n",
      "a = [[1. 2.]\n",
      " [1. 2.]]\n",
      "b = [[3. 4.]\n",
      " [3. 4.]\n",
      " [3. 4.]]\n",
      "c = [[7 8]\n",
      " [7 8]]\n",
      "d = [[1. 2.]\n",
      " [1. 2.]\n",
      " [3. 4.]\n",
      " [3. 4.]\n",
      " [3. 4.]\n",
      " [7. 8.]\n",
      " [7. 8.]]\n"
     ]
    },
    {
     "ename": "ValueError",
     "evalue": "all the input array dimensions except for the concatenation axis must match exactly",
     "output_type": "error",
     "traceback": [
      "\u001b[1;31m---------------------------------------------------------------------------\u001b[0m",
      "\u001b[1;31mValueError\u001b[0m                                Traceback (most recent call last)",
      "\u001b[1;32m<ipython-input-28-87834ac1a7ee>\u001b[0m in \u001b[0;36m<module>\u001b[1;34m\u001b[0m\n\u001b[0;32m     22\u001b[0m \u001b[0mb\u001b[0m \u001b[1;33m=\u001b[0m \u001b[0mnp\u001b[0m\u001b[1;33m.\u001b[0m\u001b[0marray\u001b[0m\u001b[1;33m(\u001b[0m\u001b[1;33m[\u001b[0m\u001b[1;33m[\u001b[0m\u001b[1;36m3\u001b[0m\u001b[1;33m,\u001b[0m\u001b[1;36m4\u001b[0m\u001b[1;33m,\u001b[0m\u001b[1;36m5\u001b[0m\u001b[1;33m]\u001b[0m\u001b[1;33m,\u001b[0m\u001b[1;33m[\u001b[0m\u001b[1;36m3\u001b[0m\u001b[1;33m,\u001b[0m\u001b[1;36m4\u001b[0m\u001b[1;33m,\u001b[0m\u001b[1;36m5\u001b[0m\u001b[1;33m]\u001b[0m\u001b[1;33m]\u001b[0m \u001b[1;33m,\u001b[0m\u001b[0mfloat\u001b[0m\u001b[1;33m)\u001b[0m      \u001b[1;31m# float type\u001b[0m\u001b[1;33m\u001b[0m\u001b[0m\n\u001b[0;32m     23\u001b[0m \u001b[0mc\u001b[0m \u001b[1;33m=\u001b[0m \u001b[0mnp\u001b[0m\u001b[1;33m.\u001b[0m\u001b[0marray\u001b[0m\u001b[1;33m(\u001b[0m\u001b[1;33m[\u001b[0m\u001b[1;33m[\u001b[0m\u001b[1;36m7\u001b[0m\u001b[1;33m,\u001b[0m\u001b[1;36m8\u001b[0m\u001b[1;33m,\u001b[0m\u001b[1;36m9\u001b[0m\u001b[1;33m,\u001b[0m\u001b[1;36m10\u001b[0m\u001b[1;33m]\u001b[0m\u001b[1;33m,\u001b[0m\u001b[1;33m[\u001b[0m\u001b[1;36m7\u001b[0m\u001b[1;33m,\u001b[0m\u001b[1;36m8\u001b[0m\u001b[1;33m,\u001b[0m\u001b[1;36m9\u001b[0m\u001b[1;33m,\u001b[0m\u001b[1;36m10\u001b[0m\u001b[1;33m]\u001b[0m\u001b[1;33m]\u001b[0m\u001b[1;33m,\u001b[0m \u001b[0mint\u001b[0m\u001b[1;33m)\u001b[0m     \u001b[1;31m# integer type\u001b[0m\u001b[1;33m\u001b[0m\u001b[0m\n\u001b[1;32m---> 24\u001b[1;33m \u001b[0md\u001b[0m \u001b[1;33m=\u001b[0m \u001b[0mnp\u001b[0m\u001b[1;33m.\u001b[0m\u001b[0mconcatenate\u001b[0m\u001b[1;33m(\u001b[0m\u001b[1;33m(\u001b[0m\u001b[0ma\u001b[0m\u001b[1;33m,\u001b[0m\u001b[0mb\u001b[0m\u001b[1;33m,\u001b[0m\u001b[0mc\u001b[0m\u001b[1;33m)\u001b[0m\u001b[1;33m)\u001b[0m\u001b[1;33m\u001b[0m\u001b[0m\n\u001b[0m\u001b[0;32m     25\u001b[0m \u001b[0mprint\u001b[0m\u001b[1;33m(\u001b[0m\u001b[1;34m'a ='\u001b[0m\u001b[1;33m,\u001b[0m\u001b[0ma\u001b[0m\u001b[1;33m)\u001b[0m\u001b[1;33m\u001b[0m\u001b[0m\n\u001b[0;32m     26\u001b[0m \u001b[0mprint\u001b[0m\u001b[1;33m(\u001b[0m\u001b[1;34m'b ='\u001b[0m\u001b[1;33m,\u001b[0m\u001b[0mb\u001b[0m\u001b[1;33m)\u001b[0m\u001b[1;33m\u001b[0m\u001b[0m\n",
      "\u001b[1;31mValueError\u001b[0m: all the input array dimensions except for the concatenation axis must match exactly"
     ]
    }
   ],
   "source": [
    "a = np.array([1,2], float)        # float type\n",
    "b = np.array([3,4,5], float)      # float type\n",
    "c = np.array([7,8,9,10], int)     # integer type\n",
    "d = np.concatenate((a,b,c))\n",
    "print('a =',a)\n",
    "print('b =',b)\n",
    "print('c =',c)\n",
    "print('d =',d)\n",
    "\n",
    "#concatenate the arrays with same length for their second axis, different length for the concatenation axis(the first axis)\n",
    "a = np.array([[1,2],[1,2]], float)        # float type\n",
    "b = np.array([[3,4],[3,4],[3,4]] ,float)      # float type\n",
    "c = np.array([[7,8],[7,8]], int)     # integer type\n",
    "d = np.concatenate((a,b,c))\n",
    "print('a =',a)\n",
    "print('b =',b)\n",
    "print('c =',c)\n",
    "print('d =',d)\n",
    "\n",
    "#concatenate the arrays with different length for the second axis\n",
    "a = np.array([[1,2],[1,2]], float)        # float type\n",
    "b = np.array([[3,4,5],[3,4,5]] ,float)      # float type\n",
    "c = np.array([[7,8,9,10],[7,8,9,10]], int)     # integer type\n",
    "d = np.concatenate((a,b,c))\n",
    "print('a =',a)\n",
    "print('b =',b)\n",
    "print('c =',c)\n",
    "print('d =',d)"
   ]
  },
  {
   "cell_type": "markdown",
   "metadata": {},
   "source": [
    "# arange method\n",
    "\n",
    "arange method is similar to *range()* function except it returns an array."
   ]
  },
  {
   "cell_type": "code",
   "execution_count": 29,
   "metadata": {},
   "outputs": [
    {
     "name": "stdout",
     "output_type": "stream",
     "text": [
      "a =  [0. 1. 2. 3. 4.]\n",
      "type of a:  <class 'numpy.ndarray'>\n",
      "b =  [0. 1. 2. 3. 4.]\n",
      "type of b:  <class 'numpy.ndarray'>\n"
     ]
    }
   ],
   "source": [
    "a = np.array(range(5), float)\n",
    "print('a = ', a)\n",
    "print('type of a: ', type(a))\n",
    "\n",
    "b = np.arange(5, dtype=float) #np.arange\n",
    "print('b = ', b)\n",
    "print('type of b: ', type(b))"
   ]
  },
  {
   "cell_type": "markdown",
   "metadata": {},
   "source": [
    "## zeros and ones\n",
    "\n",
    "We use **zeros** and **ones** method to initialize an array\n"
   ]
  },
  {
   "cell_type": "code",
   "execution_count": 30,
   "metadata": {},
   "outputs": [
    {
     "name": "stdout",
     "output_type": "stream",
     "text": [
      "a= [0 0 0 0 0 0 0]\n",
      "b= [[0 0 0]\n",
      " [0 0 0]]\n",
      "c= [[1. 1.]\n",
      " [1. 1.]\n",
      " [1. 1.]]\n"
     ]
    }
   ],
   "source": [
    "a = np.zeros(7,dtype=int)\n",
    "print('a=',a)\n",
    "\n",
    "b = np.zeros((2,3),dtype=int)\n",
    "print('b=',b)\n",
    "\n",
    "c = np.ones((3,2),dtype=float)\n",
    "print('c=',c)"
   ]
  },
  {
   "cell_type": "markdown",
   "metadata": {},
   "source": [
    "## We use zeros_like and ones_like functions to mimic and initialize arrays"
   ]
  },
  {
   "cell_type": "code",
   "execution_count": 31,
   "metadata": {},
   "outputs": [
    {
     "name": "stdout",
     "output_type": "stream",
     "text": [
      "a= [[1 3 3]\n",
      " [4 5 6]]\n",
      "b= [[0 0 0]\n",
      " [0 0 0]]\n",
      "c= [[1 1 1]\n",
      " [1 1 1]]\n"
     ]
    }
   ],
   "source": [
    "a = np.array([[1,3,3], [4,5,6]],int)\n",
    "b = np.zeros_like(a)  # create a new array b with all zeros\n",
    "c = np.ones_like(a)   # create a new array c with all ones\n",
    "print('a=',a)\n",
    "print('b=',b)\n",
    "print('c=',c)"
   ]
  },
  {
   "cell_type": "markdown",
   "metadata": {},
   "source": [
    "## Creating identity matrix and diagonal matrix\n",
    "\n",
    "- use identity method\n",
    "- use eye method: which returns matrices with ones along the $k^{th}$ diagonal entries"
   ]
  },
  {
   "cell_type": "code",
   "execution_count": 32,
   "metadata": {},
   "outputs": [
    {
     "name": "stdout",
     "output_type": "stream",
     "text": [
      "a= [[1. 0. 0. 0. 0.]\n",
      " [0. 1. 0. 0. 0.]\n",
      " [0. 0. 1. 0. 0.]\n",
      " [0. 0. 0. 1. 0.]\n",
      " [0. 0. 0. 0. 1.]]\n",
      "a= [[0. 1. 0. 0. 0.]\n",
      " [0. 0. 1. 0. 0.]\n",
      " [0. 0. 0. 1. 0.]\n",
      " [0. 0. 0. 0. 1.]\n",
      " [0. 0. 0. 0. 0.]]\n"
     ]
    }
   ],
   "source": [
    "a = np.identity(5, dtype=float)  # create a 5x5 identity matrix\n",
    "print('a=',a)\n",
    "\n",
    "a = np.eye(5, k=1, dtype=float)  # create a 5x5 matrix with 1st diagonal being 1\n",
    "print('a=',a)"
   ]
  },
  {
   "cell_type": "markdown",
   "metadata": {},
   "source": [
    "## Array mathematics\n",
    "\n",
    "Of course we can do addition, subtraction, multiplication and division,...etc"
   ]
  },
  {
   "cell_type": "code",
   "execution_count": 33,
   "metadata": {},
   "outputs": [
    {
     "name": "stdout",
     "output_type": "stream",
     "text": [
      "a = [1 2 3 4 5] ; b = [5. 4. 3. 2. 1.]\n",
      "a+b = [6. 6. 6. 6. 6.]\n",
      "a-b = [-4. -2.  0.  2.  4.]\n",
      "a*b = [5. 8. 9. 8. 5.]\n",
      "a/b = [0.2 0.5 1.  2.  5. ]\n",
      "a%b = [1. 2. 0. 0. 0.]\n",
      "a**b = [ 1. 16. 27. 16.  5.]\n"
     ]
    }
   ],
   "source": [
    "a = np.array([1,2,3,4,5],int)\n",
    "b = np.array([5,4,3,2,1],float)\n",
    "print('a =', a, '; b =', b)\n",
    "print('a+b =', a+b)\n",
    "print('a-b =', a-b)\n",
    "print('a*b =', a*b)\n",
    "print('a/b =', a/b)\n",
    "print('a%b =', a%b)\n",
    "print('a**b =', a**b)\n"
   ]
  },
  {
   "cell_type": "code",
   "execution_count": 34,
   "metadata": {},
   "outputs": [
    {
     "name": "stdout",
     "output_type": "stream",
     "text": [
      "\n",
      "c = [[1 2 3 4 5]\n",
      " [1 1 1 1 1]]\n",
      "d = [[5. 4. 3. 2. 1.]\n",
      " [2. 2. 2. 2. 2.]]\n",
      "c+d = [[6. 6. 6. 6. 6.]\n",
      " [3. 3. 3. 3. 3.]]\n",
      "c-d = [[-4. -2.  0.  2.  4.]\n",
      " [-1. -1. -1. -1. -1.]]\n",
      "c*d = [[5. 8. 9. 8. 5.]\n",
      " [2. 2. 2. 2. 2.]]\n",
      "c/d = [[0.2 0.5 1.  2.  5. ]\n",
      " [0.5 0.5 0.5 0.5 0.5]]\n",
      "c%d = [[1. 2. 0. 0. 0.]\n",
      " [1. 1. 1. 1. 1.]]\n",
      "c**d = [[ 1. 16. 27. 16.  5.]\n",
      " [ 1.  1.  1.  1.  1.]]\n"
     ]
    }
   ],
   "source": [
    "# for higher dimenion arrays, it remains to be an element-wise operation\n",
    "c = np.array([[1,2,3,4,5],[1,1,1,1,1]],int)\n",
    "d = np.array([[5,4,3,2,1],[2,2,2,2,2]],float)\n",
    "print('\\nc =', c)\n",
    "print('d =',d)\n",
    "print('c+d =', c+d)\n",
    "print('c-d =', c-d)\n",
    "print('c*d =', c*d)\n",
    "print('c/d =', c/d)\n",
    "print('c%d =', c%d)\n",
    "print('c**d =',c**d)\n"
   ]
  },
  {
   "cell_type": "markdown",
   "metadata": {},
   "source": [
    "## The \"broadcast\" feature of NumPy\n",
    "\n",
    "Arrays that do not match in the number of dimensions will be **broadcasted** (or adjusted to fit with appropriate dimension)"
   ]
  },
  {
   "cell_type": "code",
   "execution_count": 35,
   "metadata": {},
   "outputs": [
    {
     "name": "stdout",
     "output_type": "stream",
     "text": [
      "a = [[1 2]\n",
      " [3 4]\n",
      " [5 6]]\n",
      "b = [-1.  3.]\n",
      "\n",
      "a+b = [[0. 5.]\n",
      " [2. 7.]\n",
      " [4. 9.]]\n",
      "\n",
      "a*b = [[-1.  6.]\n",
      " [-3. 12.]\n",
      " [-5. 18.]]\n",
      "\n"
     ]
    }
   ],
   "source": [
    "a = np.array([[1,2], [3,4], [5,6]], int)\n",
    "b = np.array([-1,3], float)\n",
    "print('a =', a)\n",
    "print('b =', b, end='\\n\\n')\n",
    "print('a+b =', a+b, end='\\n\\n')\n",
    "print('a*b =', a*b, end='\\n\\n')"
   ]
  },
  {
   "cell_type": "markdown",
   "metadata": {},
   "source": [
    "## Math libraries in NumPy\n",
    "\n",
    "There are **many libraries** like *abs, sign, sqrt, log, log10, exp, sin, cos, tan, arcsin, arccos, arctan, sinh, cosh, tanh, arcsinh, arccosh, arctanh*,.... Make sure to read the documentation"
   ]
  },
  {
   "cell_type": "code",
   "execution_count": 38,
   "metadata": {},
   "outputs": [
    {
     "name": "stdout",
     "output_type": "stream",
     "text": [
      "Square root of a = [1. 2. 3. 4. 5.]\n",
      "Sign of a = [1. 1. 1. 1. 1.]\n",
      "exp of a = [2.71828183e+00 5.45981500e+01 8.10308393e+03 8.88611052e+06\n",
      " 7.20048993e+10]\n",
      "log of a = [0.         1.38629436 2.19722458 2.77258872 3.21887582]\n",
      "log10 of a = [0.         0.60205999 0.95424251 1.20411998 1.39794001]\n",
      "log10 of a = [0.         2.         3.169925   4.         4.64385619]\n"
     ]
    }
   ],
   "source": [
    "a = np.array([1,4,9,16,25],float)\n",
    "\n",
    "print ('Square root of a =', np.sqrt(a)) # use sqaure root\n",
    "print ('Sign of a =', np.sign(a)) # use sign\n",
    "print ('exp of a =', np.exp(a)) # use exponential\n",
    "print ('log of a =', np.log(a)) # use log, e as the base\n",
    "print ('log10 of a =', np.log10(a)) # use log10\n",
    "print ('log10 of a =', np.log2(a)) # use log2"
   ]
  },
  {
   "cell_type": "code",
   "execution_count": 39,
   "metadata": {},
   "outputs": [
    {
     "name": "stdout",
     "output_type": "stream",
     "text": [
      "a = [ 1.1  4.3  9.8 16.5 25.6]\n",
      "floor of a = [ 1.  4.  9. 16. 25.]\n",
      "ceil of a = [ 2.  5. 10. 17. 26.]\n",
      "rint of a = [ 1.  4. 10. 16. 26.]\n"
     ]
    }
   ],
   "source": [
    "a = np.array([1.1,4.3,9.8,16.5,25.6],float)\n",
    "\n",
    "print('a =', a)\n",
    "print ('floor of a =', np.floor(a)) # use floor\n",
    "print ('ceil of a =', np.ceil(a)) # use ceil\n",
    "print ('rint of a =', np.rint(a)) # use rint:Round elements of the array to the nearest integer.\n"
   ]
  },
  {
   "cell_type": "markdown",
   "metadata": {},
   "source": [
    "## Various constants in NumPy"
   ]
  },
  {
   "cell_type": "code",
   "execution_count": 40,
   "metadata": {},
   "outputs": [
    {
     "name": "stdout",
     "output_type": "stream",
     "text": [
      "Pi is =  3.141592653589793\n",
      "e is =  2.718281828459045\n"
     ]
    }
   ],
   "source": [
    "print('Pi is = ', np.pi)\n",
    "print('e is = ', np.e)"
   ]
  },
  {
   "cell_type": "markdown",
   "metadata": {},
   "source": [
    "## Array iteration in NumPy"
   ]
  },
  {
   "cell_type": "code",
   "execution_count": 41,
   "metadata": {},
   "outputs": [
    {
     "name": "stdout",
     "output_type": "stream",
     "text": [
      "number =  1\n",
      "number =  4\n",
      "number =  5\n"
     ]
    }
   ],
   "source": [
    "a = np.array([1,4,5], dtype=int)\n",
    "\n",
    "for num in a:\n",
    "    print('number = ', num)"
   ]
  },
  {
   "cell_type": "code",
   "execution_count": 42,
   "metadata": {},
   "outputs": [
    {
     "name": "stdout",
     "output_type": "stream",
     "text": [
      "number =  [1 2]\n",
      "number =  [3 4]\n",
      "number =  [5 6]\n"
     ]
    }
   ],
   "source": [
    "a = np.array([[1,2],[3,4],[5,6]], dtype=int)\n",
    "\n",
    "for num in a:\n",
    "    print('number = ', num)"
   ]
  },
  {
   "cell_type": "code",
   "execution_count": 43,
   "metadata": {},
   "outputs": [
    {
     "name": "stdout",
     "output_type": "stream",
     "text": [
      "num1 =  1 ; num2 =  2 ; num1*num2 =  2\n",
      "num1 =  3 ; num2 =  4 ; num1*num2 =  12\n",
      "num1 =  5 ; num2 =  6 ; num1*num2 =  30\n"
     ]
    }
   ],
   "source": [
    "a = np.array([[1,2],[3,4],[5,6]], dtype=int)\n",
    "\n",
    "for [num1, num2] in a:\n",
    "    print('num1 = ', num1, '; num2 = ', num2, '; num1*num2 = ', num1*num2)\n",
    "    "
   ]
  },
  {
   "cell_type": "markdown",
   "metadata": {},
   "source": [
    "## Basic Array operations"
   ]
  },
  {
   "cell_type": "code",
   "execution_count": 44,
   "metadata": {},
   "outputs": [
    {
     "name": "stdout",
     "output_type": "stream",
     "text": [
      "a = [2. 4. 3.]\n",
      "b = [[1. 2.]\n",
      " [3. 4.]]\n",
      "\n",
      "element sum of a =  9.0\n",
      "element sum of b =  10.0\n",
      "element prduct of a =  24.0\n",
      "element product  of b =  24.0\n"
     ]
    }
   ],
   "source": [
    "a = np.array([2,4,3], dtype=float)\n",
    "b = np.array([[1,2],[3,4]], dtype=float)\n",
    "\n",
    "print('a =', a)\n",
    "print('b =', b, end='\\n\\n')\n",
    "print('element sum of a = ', a.sum())  # sum all elements\n",
    "print('element sum of b = ', b.sum())  # sum all elements\n",
    "print('element prduct of a = ', a.prod())  # multiply all elements\n",
    "print('element product  of b = ', b.prod())  # multiply all elements\n"
   ]
  },
  {
   "cell_type": "code",
   "execution_count": 45,
   "metadata": {},
   "outputs": [
    {
     "name": "stdout",
     "output_type": "stream",
     "text": [
      "element sum of a =  9.0\n",
      "element sum of b =  10.0\n",
      "element prduct of a =  24.0\n",
      "element product  of b =  24.0\n"
     ]
    }
   ],
   "source": [
    "## Another way is to use NumPy method with array as argument\n",
    "print('element sum of a = ', np.sum(a))  # sum all elements\n",
    "print('element sum of b = ', np.sum(b))  # sum all elements\n",
    "print('element prduct of a = ', np.prod(a))  # multiply all elements\n",
    "print('element product  of b = ', np.prod(b)) # multiply all elements"
   ]
  },
  {
   "cell_type": "code",
   "execution_count": 47,
   "metadata": {},
   "outputs": [
    {
     "name": "stdout",
     "output_type": "stream",
     "text": [
      "a = [ 6.  2.  5. -1.  0.]\n",
      "sorted form of a = [-1.0, 0.0, 2.0, 5.0, 6.0]\n",
      "clipped form of a = [4.1 2.  4.1 0.  0. ]\n"
     ]
    }
   ],
   "source": [
    "# to sort all entries in an array\n",
    "a = np.array([6, 2, 5, -1, 0],float)\n",
    "print('a =', a)\n",
    "print('sorted form of a =', sorted(a))      # sort a but not to alter the array a\n",
    "print('clipped form of a =', a.clip(0,4.1)) # specify lower/upper bound: greater than upper bound, replace it with uppper bound"
   ]
  },
  {
   "cell_type": "code",
   "execution_count": 48,
   "metadata": {},
   "outputs": [
    {
     "name": "stdout",
     "output_type": "stream",
     "text": [
      "a = [1. 1. 2. 2. 3. 4. 4. 5. 5. 5.]\n",
      "unqiue entries of a : [1. 2. 3. 4. 5.]\n"
     ]
    }
   ],
   "source": [
    "# finding unique entries in an array\n",
    "a = np.array([1, 1, 2, 2, 3, 4, 4, 5, 5, 5],float)\n",
    "print('a =', a)\n",
    "print('unqiue entries of a :', np.unique(a))"
   ]
  },
  {
   "cell_type": "code",
   "execution_count": 49,
   "metadata": {},
   "outputs": [
    {
     "name": "stdout",
     "output_type": "stream",
     "text": [
      "a = [[1 2 3]\n",
      " [4 5 6]\n",
      " [7 8 9]]\n",
      "diagonal entries of a are : [1 5 9]\n"
     ]
    }
   ],
   "source": [
    "# finding diagonal entries in an array\n",
    "a = np.array([[1,2,3],[4,5,6],[7,8,9]], int)\n",
    "print('a =', a)\n",
    "print('diagonal entries of a are :', a.diagonal())\n"
   ]
  },
  {
   "cell_type": "markdown",
   "metadata": {},
   "source": [
    "## Array comparison & testing"
   ]
  },
  {
   "cell_type": "code",
   "execution_count": 50,
   "metadata": {},
   "outputs": [
    {
     "name": "stdout",
     "output_type": "stream",
     "text": [
      "a= [1. 3. 0.] ; b= [0. 3. 2.]\n",
      "Is a > b:  [ True False False]\n",
      "Is a == b: [False  True False]\n",
      "Is a <= b: [False  True  True]\n"
     ]
    }
   ],
   "source": [
    "a = np.array([1, 3, 0], float)\n",
    "b = np.array([0, 3, 2], float)\n",
    "print('a=',a, '; b=', b)\n",
    "\n",
    "print('Is a > b: ', a>b)   # a>b returns an array of boolean\n",
    "print('Is a == b:', a==b)\n",
    "print('Is a <= b:', a<=b)"
   ]
  },
  {
   "cell_type": "code",
   "execution_count": 52,
   "metadata": {},
   "outputs": [
    {
     "name": "stdout",
     "output_type": "stream",
     "text": [
      "c = [ True False False]\n",
      "There is at least one \"True\" in c:  True\n",
      "all entries in c are \"True\" :  False\n"
     ]
    }
   ],
   "source": [
    "# You can use methods like any or all to test condition\n",
    "c = a > b    # c is now an array of boolean\n",
    "print('c =', c)\n",
    "print('There is at least one \"True\" in c: ', any(c))\n",
    "print('all entries in c are \"True\" : ', all(c))"
   ]
  },
  {
   "cell_type": "code",
   "execution_count": 53,
   "metadata": {},
   "outputs": [
    {
     "name": "stdout",
     "output_type": "stream",
     "text": [
      "a = [1. 3. 0.]\n",
      "Are entries in a > 0 AND a < 3:  [ True False False]\n",
      "Use of logical_not in a:  [False  True  True]\n",
      "Use of logical_or:  [ True  True  True]\n"
     ]
    }
   ],
   "source": [
    "# use of logical_and, logical_or and logical_not in array\n",
    "a = np.array([1,3,0], float)\n",
    "print('a =', a)\n",
    "b = np.logical_and(a>0, a<3)\n",
    "print('Are entries in a > 0 AND a < 3: ', b)\n",
    "c = np.logical_not(b)\n",
    "print('Use of logical_not in a: ', c)\n",
    "print('Use of logical_or: ', np.logical_or(b,c))"
   ]
  },
  {
   "cell_type": "markdown",
   "metadata": {},
   "source": [
    "## Use of method where() in NumPy\n",
    "\n",
    "*where* forms a new array from two arrays of equivalent size using a Boolean filter to choose between elements of the two. Its basic syntax is <br>\n",
    "\n",
    "&nbsp;&nbsp;&nbsp;&nbsp;&nbsp;&nbsp;&nbsp;&nbsp; *np.where (boolarray, truearray, falsearray)* "
   ]
  },
  {
   "cell_type": "code",
   "execution_count": 54,
   "metadata": {},
   "outputs": [
    {
     "name": "stdout",
     "output_type": "stream",
     "text": [
      "a = [1. 3. 0.]\n",
      "b = [2. 4. 0.]\n",
      "c = [ 5.  5. -1.]\n"
     ]
    }
   ],
   "source": [
    "a = np.array([1, 3, 0], float)\n",
    "b = np.where(a > 0, a+1, a)\n",
    "c = np.where(a>0, 5.0, -1.0)\n",
    "print('a =', a)\n",
    "print('b =', b)\n",
    "print('c =', c)"
   ]
  },
  {
   "cell_type": "code",
   "execution_count": 55,
   "metadata": {},
   "outputs": [
    {
     "name": "stdout",
     "output_type": "stream",
     "text": [
      "a = [ 2. nan inf]\n",
      "Entry is not a number : [False  True False]\n",
      "Entry is finite : [ True False False]\n"
     ]
    }
   ],
   "source": [
    "## It is also possible to test whether or not values are NaN (\"not a number\") or finite\n",
    "a = np.array([2, np.NaN, np.Inf], float)\n",
    "print('a =', a)\n",
    "print('Entry is not a number :', np.isnan(a))\n",
    "print('Entry is finite :', np.isfinite(a))"
   ]
  },
  {
   "cell_type": "markdown",
   "metadata": {},
   "source": [
    "## Finding statistics in an array"
   ]
  },
  {
   "cell_type": "code",
   "execution_count": 56,
   "metadata": {},
   "outputs": [
    {
     "name": "stdout",
     "output_type": "stream",
     "text": [
      "mean of a = 7.971428571428571\n",
      "mean of a = 7.971428571428571\n",
      "\n",
      "variance of a = 42.03061224489795\n",
      "my standard deviation of a = 6.483102054178844\n",
      "standard deviation of a = 6.483102054178844\n"
     ]
    }
   ],
   "source": [
    "# We want to find the mean and variance of a series\n",
    "a = np.array([2, 1, 3, 10.0, 5.3, 18.2, 16.3],dtype=float)\n",
    "mean = a.sum()/len(a)\n",
    "print('mean of a =', mean)\n",
    "print('mean of a =', a.mean(), end='\\n\\n')\n",
    "print('variance of a =', a.var())\n",
    "print('my standard deviation of a =', np.sqrt(a.var()))\n",
    "print('standard deviation of a =', a.std())"
   ]
  },
  {
   "cell_type": "code",
   "execution_count": 58,
   "metadata": {},
   "outputs": [
    {
     "name": "stdout",
     "output_type": "stream",
     "text": [
      "a = [ 2.   1.   3.  10.   5.3 18.2 16.3]\n",
      "minimum element in a = 1.0\n",
      "minimum occurs in index: 1\n",
      "maximum element in a = 18.2\n",
      "maximum occurs in index: 5\n",
      "b = [[ 2.   1.   3.  10. ]\n",
      " [ 5.3 18.2 16.3 12.1]]\n",
      "minimum element in a = 1.0\n",
      "minimum occurs in index: 1\n",
      "maximum element in a = 18.2\n",
      "maximum occurs in index: 5\n"
     ]
    }
   ],
   "source": [
    "# We want to find the min or max or argmin or argmax in a series\n",
    "a = np.array([2, 1, 3, 10.0, 5.3, 18.2, 16.3],dtype=float)\n",
    "b = np.array([[2, 1, 3, 10.0],[ 5.3, 18.2, 16.3,12.1]],dtype=float)\n",
    "print('a =', a)\n",
    "print('minimum element in a =', a.min())\n",
    "print('minimum occurs in index:', a.argmin())\n",
    "print('maximum element in a =', a.max())\n",
    "print('maximum occurs in index:', a.argmax())\n",
    "\n",
    "print('b =', b)\n",
    "print('minimum element in a =', b.min())\n",
    "print('minimum occurs in index:', b.argmin())\n",
    "print('maximum element in a =', b.max())\n",
    "print('maximum occurs in index:', b.argmax())\n",
    "\n"
   ]
  },
  {
   "cell_type": "code",
   "execution_count": 59,
   "metadata": {},
   "outputs": [
    {
     "name": "stdout",
     "output_type": "stream",
     "text": [
      "a = [[ 0.  2.]\n",
      " [ 3. -1.]\n",
      " [ 3.  5.]]\n",
      "mean in axis 0 =  [2. 2.]\n",
      "mean in axis 1 =  [1. 1. 4.]\n",
      "min  in axis 0 =  [ 0. -1.]\n",
      "min  in axis 1 =  [ 0. -1.  3.]\n",
      "max  in axis 0 =  [3. 5.]\n",
      "max  in axis 1 =  [2. 3. 5.]\n"
     ]
    }
   ],
   "source": [
    "# We can even control which axis to take the statistics\n",
    "a = np.array([[0,2],[3,-1],[3,5]], dtype=float)\n",
    "print('a =', a)\n",
    "\n",
    "print('mean in axis 0 = ', a.mean(axis=0))  #mean value along the first dimension: along the columns in the matrix representation\n",
    "print('mean in axis 1 = ', a.mean(axis=1))  #mean value along the second dimension: along the rows in the matrix representation\n",
    "print('min  in axis 0 = ', a.min(axis=0))\n",
    "print('min  in axis 1 = ', a.min(axis=1))\n",
    "print('max  in axis 0 = ', a.max(axis=0))\n",
    "print('max  in axis 1 = ', a.max(axis=1))"
   ]
  },
  {
   "cell_type": "markdown",
   "metadata": {},
   "source": [
    "## Array item selection and manipulation"
   ]
  },
  {
   "cell_type": "code",
   "execution_count": 62,
   "metadata": {},
   "outputs": [
    {
     "name": "stdout",
     "output_type": "stream",
     "text": [
      "a= [[6. 4.]\n",
      " [5. 9.]]\n",
      "a =  [[6. 4.]\n",
      " [5. 9.]] . Type of a: <class 'numpy.ndarray'>\n",
      "b =  [[ True False]\n",
      " [False  True]] . Type of b: <class 'numpy.ndarray'>\n",
      "c =  [6. 9.] . Type of c: <class 'numpy.ndarray'>\n"
     ]
    }
   ],
   "source": [
    "a = np.array([[6,4], [5,9]], float)  # define a 2x2 array\n",
    "print('a=', a)\n",
    "\n",
    "b = a >= 6  # define a boolean array with the same dimension as 'a'\n",
    "c = a[b]    # select entries in 'a' which are correspondinly true in 'b'\n",
    "print('a = ', a, '. Type of a:', type(a))\n",
    "print('b = ', b, '. Type of b:', type(b))\n",
    "print('c = ', c, '. Type of c:', type(c))"
   ]
  },
  {
   "cell_type": "code",
   "execution_count": 63,
   "metadata": {},
   "outputs": [
    {
     "name": "stdout",
     "output_type": "stream",
     "text": [
      "a= [[6. 4.]\n",
      " [5. 9.]]\n",
      "b =  [[ True False]\n",
      " [False  True]] . Type of b: <class 'numpy.ndarray'>\n",
      "c =  [6. 9.] . Type of c: <class 'numpy.ndarray'>\n"
     ]
    }
   ],
   "source": [
    "a = np.array([[6,4], [5,9]], float)  # define a 2x2 array\n",
    "print('a=', a)\n",
    "\n",
    "b = (a >= 6)\n",
    "print('b = ', b, '. Type of b:', type(b))\n",
    "\n",
    "c = a[b]\n",
    "print('c = ', c, '. Type of c:', type(c))"
   ]
  },
  {
   "cell_type": "code",
   "execution_count": 64,
   "metadata": {},
   "outputs": [
    {
     "name": "stdout",
     "output_type": "stream",
     "text": [
      "a= [[6. 4.]\n",
      " [5. 9.]]\n",
      "b =  [6.] . Type of b: <class 'numpy.ndarray'>\n"
     ]
    }
   ],
   "source": [
    "a = np.array([[6,4], [5,9]], float)  # define a 2x2 array\n",
    "print('a=', a)\n",
    "\n",
    "b = a[np.logical_and(a > 5, a <9)]  #use np.logical_and because a>5 and a<9 are numpy.ndarray data type\n",
    "print('b = ', b, '. Type of b:', type(b))\n",
    "\n"
   ]
  },
  {
   "cell_type": "code",
   "execution_count": 66,
   "metadata": {},
   "outputs": [
    {
     "name": "stdout",
     "output_type": "stream",
     "text": [
      "a= [2. 4. 6. 8.] ; b= [0 0 1 3 2 1]\n",
      "c =  [2. 2. 4. 8. 6. 4.] . Type of c: <class 'numpy.ndarray'>\n"
     ]
    }
   ],
   "source": [
    "a = np.array([2, 4, 6, 8], float)\n",
    "print('a=', a, '; b=', b)\n",
    "b = np.array([0, 0, 1, 3, 2, 1], int)  # it has to be an integer array, array indexes\n",
    "c = a[b]   # create array c\n",
    "print('c = ', c, '. Type of c:', type(c))"
   ]
  },
  {
   "cell_type": "markdown",
   "metadata": {},
   "source": [
    "### Multidimensional array selection\n",
    "\n",
    "For multidimensional arrays, we have to use multiple one-dimensional integer array to the selection bracket, **one for each axis**"
   ]
  },
  {
   "cell_type": "code",
   "execution_count": 67,
   "metadata": {},
   "outputs": [
    {
     "name": "stdout",
     "output_type": "stream",
     "text": [
      "a = [[ 1.  4.]\n",
      " [ 9. 16.]]\n",
      "b = [0 0 1 1 0]\n",
      "c = [0 1 1 1 1]\n",
      "d = [ 1.  4. 16. 16.  4.] ; type of d is: <class 'numpy.ndarray'>\n"
     ]
    }
   ],
   "source": [
    "a = np.array([[1,4], [9,16]], float)\n",
    "b = np.array([0, 0, 1, 1, 0], int)\n",
    "c = np.array([0, 1, 1, 1, 1], int)\n",
    "d = a[b,c] # [a[0,0],a[0,1],a[1,1],a[1,1],a[0,1]]\n",
    "\n",
    "print('a =', a)\n",
    "print('b =', b)\n",
    "print('c =', c)\n",
    "print('d =', d, '; type of d is:', type(d))"
   ]
  },
  {
   "cell_type": "markdown",
   "metadata": {},
   "source": [
    "## take method\n",
    "The function **take** is available to perform selection with integer arrays"
   ]
  },
  {
   "cell_type": "code",
   "execution_count": 72,
   "metadata": {},
   "outputs": [
    {
     "name": "stdout",
     "output_type": "stream",
     "text": [
      "a = [2. 4. 6. 8.] ; b= [0 0 1 3 2 1]\n",
      "a.take(b) =  [2. 2. 4. 8. 6. 4.]\n",
      "c =  [2. 2. 4. 8. 6. 4.] . Type of c: <class 'numpy.ndarray'>\n"
     ]
    }
   ],
   "source": [
    "a = np.array([2, 4, 6, 8], float)\n",
    "b = np.array([0, 0, 1, 3, 2, 1], int)\n",
    "\n",
    "print('a =', a, '; b=', b)\n",
    "print('a.take(b) = ', a.take(b))\n",
    "c = a[b]   # create array c\n",
    "print('c = ', c, '. Type of c:', type(c))"
   ]
  },
  {
   "cell_type": "markdown",
   "metadata": {},
   "source": [
    "## put method\n",
    "The function **put** takes values from a soure array and place them at specified indices"
   ]
  },
  {
   "cell_type": "code",
   "execution_count": 73,
   "metadata": {},
   "outputs": [
    {
     "name": "stdout",
     "output_type": "stream",
     "text": [
      "a= [0. 1. 2. 3. 4. 5.]\n",
      "a= [9. 1. 2. 8. 4. 7.]\n"
     ]
    }
   ],
   "source": [
    "a = np.array([0, 1, 2, 3, 4, 5], float)\n",
    "print('a=', a)\n",
    "b = np.array([9, 8, 7], float)\n",
    "\n",
    "a.put([0, 3, 5], b)  # put entries of b in a according to a given indices\n",
    "print('a=', a)"
   ]
  },
  {
   "cell_type": "code",
   "execution_count": 74,
   "metadata": {},
   "outputs": [
    {
     "name": "stdout",
     "output_type": "stream",
     "text": [
      "a= [0. 1. 2. 3. 4. 5.]\n",
      "a= [5. 1. 5. 5. 4. 5.]\n"
     ]
    }
   ],
   "source": [
    "# for put method, it can repeat if necessary\n",
    "a = np.array([0, 1, 2, 3, 4, 5], float)\n",
    "print('a=',a)\n",
    "\n",
    "a.put([0,2,3], 5)\n",
    "print('a=', a)"
   ]
  },
  {
   "cell_type": "markdown",
   "metadata": {},
   "source": [
    "## Vector and matrix mathematics\n",
    "\n",
    "We can do *dot* products and matrix multiplication,...etc"
   ]
  },
  {
   "cell_type": "code",
   "execution_count": 75,
   "metadata": {},
   "outputs": [
    {
     "name": "stdout",
     "output_type": "stream",
     "text": [
      "a= [1. 2. 3.] ; b= [0. 1. 1.]\n",
      "a * b = 5.0\n"
     ]
    }
   ],
   "source": [
    "a = np.array([1,2,3], float)\n",
    "b = np.array([0,1,1], float)\n",
    "\n",
    "print('a=', a, '; b=', b)\n",
    "print('a * b =', np.dot(a,b))"
   ]
  },
  {
   "cell_type": "code",
   "execution_count": 76,
   "metadata": {},
   "outputs": [
    {
     "name": "stdout",
     "output_type": "stream",
     "text": [
      "a= [[1. 2.]\n",
      " [3. 4.]]\n",
      "\n",
      "b= [2. 3.]\n",
      "\n",
      "c= [[1. 1.]\n",
      " [4. 0.]]\n",
      "\n",
      "b*a = [11. 16.]\n",
      "a*b = [ 8. 18.]\n",
      "a*c = [[ 9.  1.]\n",
      " [19.  3.]]\n",
      "c*a = [[4. 6.]\n",
      " [4. 8.]]\n"
     ]
    }
   ],
   "source": [
    "a = np.array([[1,2], [3,4]], float)\n",
    "b = np.array([2,3], float)\n",
    "c = np.array([[1,1], [4,0]], float)\n",
    "print('a=', a, end='\\n\\n') \n",
    "print('b=', b, end='\\n\\n')\n",
    "print('c=', c, end='\\n\\n')\n",
    "print('b*a =', np.dot(b,a))\n",
    "print('a*b =', np.dot(a,b))\n",
    "print('a*c =', np.dot(a,c))\n",
    "print('c*a =', np.dot(c,a))"
   ]
  },
  {
   "cell_type": "markdown",
   "metadata": {},
   "source": [
    "## inner, outer and cross prodcuts of matrices and vectors"
   ]
  },
  {
   "cell_type": "code",
   "execution_count": 77,
   "metadata": {},
   "outputs": [
    {
     "name": "stdout",
     "output_type": "stream",
     "text": [
      "a= [1. 4. 0.] ; b= [2. 2. 1.]\n",
      "np.outer(a,b)= [[2. 2. 1.]\n",
      " [8. 8. 4.]\n",
      " [0. 0. 0.]]\n",
      "np.inner(a,b)= 10.0\n",
      "np.cross(a,b)= [ 4. -1. -6.]\n"
     ]
    }
   ],
   "source": [
    "a = np.array([1,4,0], float)\n",
    "b = np.array([2,2,1], float)\n",
    "print('a=', a, '; b=', b)\n",
    "print('np.outer(a,b)=', np.outer(a,b))\n",
    "print('np.inner(a,b)=', np.inner(a,b))\n",
    "print('np.cross(a,b)=', np.cross(a,b))"
   ]
  },
  {
   "cell_type": "markdown",
   "metadata": {},
   "source": [
    "## Determinants, inverse and eigenvalues\n"
   ]
  },
  {
   "cell_type": "code",
   "execution_count": 78,
   "metadata": {},
   "outputs": [
    {
     "name": "stdout",
     "output_type": "stream",
     "text": [
      "a = [[4. 2. 0.]\n",
      " [9. 3. 7.]\n",
      " [1. 2. 1.]]\n",
      "determinant of a is:  -48.00000000000003\n",
      "eigenalues:  [ 8.85591316  1.9391628  -2.79507597]\n",
      "eigenvectors:  [[-0.3663565  -0.54736745  0.25928158]\n",
      " [-0.88949768  0.5640176  -0.88091903]\n",
      " [-0.27308752  0.61828231  0.39592263]]\n",
      "inverse of a =  [[ 0.22916667  0.04166667 -0.29166667]\n",
      " [ 0.04166667 -0.08333333  0.58333333]\n",
      " [-0.3125      0.125       0.125     ]]\n",
      "let's check, a * b =  [[1.00000000e+00 5.55111512e-17 0.00000000e+00]\n",
      " [0.00000000e+00 1.00000000e+00 2.22044605e-16]\n",
      " [0.00000000e+00 1.38777878e-17 1.00000000e+00]]\n"
     ]
    }
   ],
   "source": [
    "a = np.array([[4, 2, 0], [9, 3, 7],[1, 2, 1]], float)\n",
    "print ('a =', a)\n",
    "print('determinant of a is: ', np.linalg.det(a)) # get determinant, linear algebra\n",
    "vals, vecs = np.linalg.eig(a)   # get eigenvalues/engenvectors\n",
    "print('eigenalues: ', vals)\n",
    "print('eigenvectors: ', vecs)\n",
    "\n",
    "b = np.linalg.inv(a)     # compute inverse of a\n",
    "print('inverse of a = ', b)\n",
    "\n",
    "print(\"let's check, a * b = \", np.dot(a,b))"
   ]
  },
  {
   "cell_type": "markdown",
   "metadata": {},
   "source": [
    "## Singular Value Decomposition (SVD)"
   ]
  },
  {
   "cell_type": "code",
   "execution_count": 79,
   "metadata": {
    "scrolled": true
   },
   "outputs": [
    {
     "name": "stdout",
     "output_type": "stream",
     "text": [
      "U is: [[-0.6113829  -0.79133492]\n",
      " [-0.79133492  0.6113829 ]]\n",
      "s is: [7.46791327 2.86884495]\n",
      "Vh is: [[-0.61169129 -0.45753324 -0.64536587]\n",
      " [ 0.78971838 -0.40129005 -0.46401635]\n",
      " [-0.046676   -0.79349205  0.60678804]]\n"
     ]
    }
   ],
   "source": [
    "a = np.array([[1,3,4], [5,2,3]], float)\n",
    "U, s, Vh = np.linalg.svd(a)   # get SVD of a\n",
    "print ('U is:', U)\n",
    "print('s is:', s)\n",
    "print('Vh is:', Vh)"
   ]
  },
  {
   "cell_type": "markdown",
   "metadata": {},
   "source": [
    "## Polynomail mathematics\n",
    "\n",
    "Given a set of roots, it is possible to show the polynomial coefficient using the *poly* method in NumPy.\n",
    "\n",
    "Let say for the following polynomial: $x^4 - 11x^3 +9x^2 + 11x - 10$.\n",
    "If we know the roots are (-1, 1, 1, 10), we use *poly* method to find the \n",
    "coefficient.\n"
   ]
  },
  {
   "cell_type": "code",
   "execution_count": 80,
   "metadata": {},
   "outputs": [
    {
     "name": "stdout",
     "output_type": "stream",
     "text": [
      "Polynomial coefficients are:  [  1. -11.   9.  11. -10.]\n"
     ]
    }
   ],
   "source": [
    "print('Polynomial coefficients are: ', np.poly([-1, 1, 1, 10]))"
   ]
  },
  {
   "cell_type": "markdown",
   "metadata": {},
   "source": [
    "Given a set of coefficients in a polynomail, we can find the roots also via *roots* method.\n",
    "Let say we have the following polynomail: $x^3 + 4x^2 -2 x + 3$."
   ]
  },
  {
   "cell_type": "code",
   "execution_count": 81,
   "metadata": {},
   "outputs": [
    {
     "data": {
      "text/plain": [
       "array([-4.5797401 +0.j        ,  0.28987005+0.75566815j,\n",
       "        0.28987005-0.75566815j])"
      ]
     },
     "execution_count": 81,
     "metadata": {},
     "output_type": "execute_result"
    }
   ],
   "source": [
    "np.roots([1, 4, -2, 3])   # get roots"
   ]
  },
  {
   "cell_type": "markdown",
   "metadata": {},
   "source": [
    "We can do polynomail integration via the *polyint* method. For example, we have the following polynomial:<br>\n",
    "  $x^3 + x^2 + x + 1$\n",
    "\n",
    "If we integrate it, we should have $x^4/4 + x^3/3 + x^2/2 + x + C$, where $C$ is a constant."
   ]
  },
  {
   "cell_type": "code",
   "execution_count": 82,
   "metadata": {},
   "outputs": [
    {
     "data": {
      "text/plain": [
       "array([0.25      , 0.33333333, 0.5       , 1.        , 0.        ])"
      ]
     },
     "execution_count": 82,
     "metadata": {},
     "output_type": "execute_result"
    }
   ],
   "source": [
    "np.polyint([1,1,1,1])  # perform integration on a polynomial (specify coefficients)"
   ]
  },
  {
   "cell_type": "code",
   "execution_count": 83,
   "metadata": {},
   "outputs": [
    {
     "data": {
      "text/plain": [
       "array([1., 1., 1., 1.])"
      ]
     },
     "execution_count": 83,
     "metadata": {},
     "output_type": "execute_result"
    }
   ],
   "source": [
    "np.polyder([1/4, 1/3, 1/2, 1, 0])  # perform derivative of polynomial (specify coefficients)"
   ]
  },
  {
   "cell_type": "markdown",
   "metadata": {},
   "source": [
    "## Note that there are other polynomail methods \n",
    "- polyadd\n",
    "- polysub\n",
    "- polymul\n",
    "- polydiv\n",
    "- polyval\n",
    "\n",
    "Read the documentation of Numpy"
   ]
  },
  {
   "cell_type": "markdown",
   "metadata": {},
   "source": [
    "## Evaluate polynomail at a given point\n",
    "\n",
    "Let's say we want to evaluate $x^3 - 2x^2 + 2$ at $x=4$."
   ]
  },
  {
   "cell_type": "code",
   "execution_count": 84,
   "metadata": {},
   "outputs": [
    {
     "data": {
      "text/plain": [
       "34"
      ]
     },
     "execution_count": 84,
     "metadata": {},
     "output_type": "execute_result"
    }
   ],
   "source": [
    "np.polyval([1,-2,0, 2], 4)"
   ]
  },
  {
   "cell_type": "markdown",
   "metadata": {},
   "source": [
    "## Curve fitting\n",
    "\n",
    "We can use *polyfit()* method, which fits a polynomial of specified order to a set of data using the *least-square method*."
   ]
  },
  {
   "cell_type": "code",
   "execution_count": 85,
   "metadata": {},
   "outputs": [
    {
     "data": {
      "text/plain": [
       "array([ 0.375     , -0.88690476,  1.05357143])"
      ]
     },
     "execution_count": 85,
     "metadata": {},
     "output_type": "execute_result"
    }
   ],
   "source": [
    "x = [1, 2, 3, 4, 5, 6, 7, 8]  \n",
    "y = [0, 2, 1, 3, 7, 10, 11, 19]\n",
    "\n",
    "# use polyfit to find the least square fit using polynomail of degree 2\n",
    "np.polyfit(x,y,2)     # it returns all coefficients"
   ]
  },
  {
   "cell_type": "markdown",
   "metadata": {},
   "source": [
    "## Statistics\n",
    "\n",
    "We can use *mean, median, var, stad* methods to find the statistics of vectors or matrices"
   ]
  },
  {
   "cell_type": "code",
   "execution_count": null,
   "metadata": {},
   "outputs": [],
   "source": [
    "a = np.array([1,4,3,8,9,2,3], float)  # find median\n",
    "print(\"sorted a is: \", sorted(a))\n",
    "print('median of a: ', np.median(a))"
   ]
  },
  {
   "cell_type": "code",
   "execution_count": 86,
   "metadata": {},
   "outputs": [
    {
     "name": "stdout",
     "output_type": "stream",
     "text": [
      "Correlation coefficient matrix: \n",
      " [[1.         0.72870505]\n",
      " [0.72870505 1.        ]]\n"
     ]
    }
   ],
   "source": [
    "# find correlation coefficient matrix (corrcoef)\n",
    "a = np.array([[1,2,1,3], [5,3,1,8]], float)\n",
    "c = np.corrcoef(a)\n",
    "print('Correlation coefficient matrix: \\n', c)"
   ]
  },
  {
   "cell_type": "code",
   "execution_count": 87,
   "metadata": {},
   "outputs": [
    {
     "name": "stdout",
     "output_type": "stream",
     "text": [
      "Covariance of data: \n",
      " [[0.91666667 2.08333333]\n",
      " [2.08333333 8.91666667]]\n"
     ]
    }
   ],
   "source": [
    "# find covariane of data (cov)\n",
    "print('Covariance of data: \\n', np.cov(a))"
   ]
  },
  {
   "cell_type": "markdown",
   "metadata": {},
   "source": [
    "## Use random number generators in NumPy\n",
    "\n",
    "We need random number generators in simulation, statistical analysis and machine learning tasks."
   ]
  },
  {
   "cell_type": "code",
   "execution_count": null,
   "metadata": {},
   "outputs": [],
   "source": [
    "# uniformly generate 5 random number in [0.0, 1.0)\n",
    "np.random.rand(5)"
   ]
  },
  {
   "cell_type": "code",
   "execution_count": 88,
   "metadata": {},
   "outputs": [
    {
     "name": "stdout",
     "output_type": "stream",
     "text": [
      "A 2x3 matrix with random # between [0, 1.0):\n",
      " [[0.61658892 0.05501285 0.33355442]\n",
      " [0.69818597 0.61450118 0.99063281]]\n"
     ]
    }
   ],
   "source": [
    "# random numbers for array, and use of *reshape()* method\n",
    "print('A 2x3 matrix with random # between [0, 1.0):\\n',\n",
    "       np.random.rand(2,3))"
   ]
  },
  {
   "cell_type": "code",
   "execution_count": 89,
   "metadata": {},
   "outputs": [
    {
     "name": "stdout",
     "output_type": "stream",
     "text": [
      "A 2x3 matrix with random # between [0, 1.0):\n",
      " [[0.92583402 0.24482127 0.80758392]\n",
      " [0.94767404 0.94938359 0.87990995]]\n"
     ]
    }
   ],
   "source": [
    "# or we can use reshape()\n",
    "print('A 2x3 matrix with random # between [0, 1.0):\\n',\n",
    "       np.random.rand(6).reshape(2,3))"
   ]
  },
  {
   "cell_type": "code",
   "execution_count": 90,
   "metadata": {},
   "outputs": [
    {
     "data": {
      "text/plain": [
       "0.5312406841616436"
      ]
     },
     "execution_count": 90,
     "metadata": {},
     "output_type": "execute_result"
    }
   ],
   "source": [
    "# generate a SINGLE random number between [0, 1)\n",
    "np.random.rand()"
   ]
  },
  {
   "cell_type": "code",
   "execution_count": 91,
   "metadata": {},
   "outputs": [
    {
     "data": {
      "text/plain": [
       "7"
      ]
     },
     "execution_count": 91,
     "metadata": {},
     "output_type": "execute_result"
    }
   ],
   "source": [
    "# generate a random INTEGER in the range [min, max]\n",
    "np.random.randint(5,10)"
   ]
  },
  {
   "cell_type": "code",
   "execution_count": 92,
   "metadata": {},
   "outputs": [
    {
     "data": {
      "text/plain": [
       "7"
      ]
     },
     "execution_count": 92,
     "metadata": {},
     "output_type": "execute_result"
    }
   ],
   "source": [
    "# Generate a random number from a Poisson distribution with a mean of 6.0\n",
    "np.random.poisson(6.0)"
   ]
  },
  {
   "cell_type": "code",
   "execution_count": 94,
   "metadata": {},
   "outputs": [
    {
     "data": {
      "text/plain": [
       "-1.1470615018022121"
      ]
     },
     "execution_count": 94,
     "metadata": {},
     "output_type": "execute_result"
    }
   ],
   "source": [
    "# Generate a random number from a Normal distribution with a mean and standard deviation\n",
    "np.random.normal(1.5, 4.0)"
   ]
  },
  {
   "cell_type": "code",
   "execution_count": 95,
   "metadata": {},
   "outputs": [
    {
     "data": {
      "text/plain": [
       "0.5058913845651754"
      ]
     },
     "execution_count": 95,
     "metadata": {},
     "output_type": "execute_result"
    }
   ],
   "source": [
    "# Generate a random number from a standard normal distribution\n",
    "np.random.normal()"
   ]
  },
  {
   "cell_type": "code",
   "execution_count": 96,
   "metadata": {},
   "outputs": [
    {
     "data": {
      "text/plain": [
       "array([-0.25551058,  1.46070538,  0.7338398 , -1.56849953,  1.68838643])"
      ]
     },
     "execution_count": 96,
     "metadata": {},
     "output_type": "execute_result"
    }
   ],
   "source": [
    "# Draw multiple values using the *size* argument\n",
    "np.random.normal(size=5)"
   ]
  },
  {
   "cell_type": "markdown",
   "metadata": {},
   "source": [
    "# SciPy\n",
    "\n",
    "- Greatly extends the functionality of NumPy\n",
    "- We can use \"import scipy\" to import the module\n",
    "- SciPy has **many packages**\n",
    "- To explore, do **help(scipy)** \n",
    "- scipy.constants:  many mathematical & physical constants\n",
    "- scipy.speical: many special functions like gamma, beta, bessel,..etc\n",
    "- scipy.integrate: perform numerical integration using methods like trapezoidal, Simpson's Romberg,..etc\n",
    "- scipy.optimize: minimization and maximization routines\n",
    "- scipy.linalg: linear algebra routines (broader than NumPy)\n",
    "- scipy.sparse: routines for working with large and sparce matrices\n",
    "- scipy.interpolate: interpolation routines\n",
    "- scipy.fftpack: Fast Fourier transform routines\n",
    "- scipy.signal: signal processing routines, e.g., convolution\n",
    "- scipy.stats: Huge library of various statistical distributions and functions\n",
    "- scipy.ndimage: n-dimensioanl image processing routines\n",
    "- scipy.cluster: Vector quantization and Kmeans\n",
    "- scipy.io: Data input and output\n",
    "- scipy.spatial: Spatial data strcutures and algorithms\n",
    "\n",
    "Let's illustrate some of them"
   ]
  },
  {
   "cell_type": "code",
   "execution_count": 97,
   "metadata": {},
   "outputs": [
    {
     "name": "stdout",
     "output_type": "stream",
     "text": [
      "The matrix a in data is: \n",
      " [[1. 1. 1.]\n",
      " [1. 1. 1.]\n",
      " [1. 1. 1.]]\n"
     ]
    }
   ],
   "source": [
    "import numpy as np\n",
    "from scipy import stats\n",
    "from scipy import io as spio\n",
    "\n",
    "a = np.ones((3,3))  # generate a 3x3 matrix with all 1's\n",
    "\n",
    "# save a to a MatLab file \n",
    "spio.savemat('file.mat', {'a': a})  # savemat expects a dictionary\n",
    "\n",
    "# load the file to another variable\n",
    "data = spio.loadmat('file.mat', struct_as_record=True)\n",
    "print('The matrix a in data is: \\n', data['a'])"
   ]
  },
  {
   "cell_type": "markdown",
   "metadata": {},
   "source": [
    "## SciPy: Linear Algebra (scipy.linalg)\n"
   ]
  },
  {
   "cell_type": "code",
   "execution_count": 98,
   "metadata": {},
   "outputs": [
    {
     "name": "stdout",
     "output_type": "stream",
     "text": [
      "arr =\n",
      " [[1. 2.]\n",
      " [3. 4.]]\n",
      "arr's determinant is:  -2.0\n"
     ]
    }
   ],
   "source": [
    "# Matrix determinant\n",
    "import numpy as np\n",
    "from scipy import linalg\n",
    "arr = np.array([[1,2], [3,4]], float)\n",
    "print('arr =\\n', arr)\n",
    "print(\"arr's determinant is: \", linalg.det(arr))"
   ]
  },
  {
   "cell_type": "code",
   "execution_count": 99,
   "metadata": {},
   "outputs": [
    {
     "name": "stdout",
     "output_type": "stream",
     "text": [
      "arr's inverse is:\n",
      " [[-2.   1. ]\n",
      " [ 1.5 -0.5]]\n",
      "\n",
      "arr * arr_inv is:\n",
      " [[1.0000000e+00 0.0000000e+00]\n",
      " [8.8817842e-16 1.0000000e+00]]\n"
     ]
    }
   ],
   "source": [
    "# Matrix inverse\n",
    "arr_inv = linalg.inv(arr)\n",
    "print(\"arr's inverse is:\\n\", arr_inv)\n",
    "\n",
    "# Let's do a test\n",
    "print(\"\\narr * arr_inv is:\\n\", np.dot(arr, arr_inv))"
   ]
  },
  {
   "cell_type": "markdown",
   "metadata": {},
   "source": [
    "## Let's examine the optimization and search routines in SciPy"
   ]
  },
  {
   "cell_type": "code",
   "execution_count": 3,
   "metadata": {},
   "outputs": [
    {
     "data": {
      "image/png": "[encoded data removed]",
      "text/plain": [
       "<Figure size 432x288 with 1 Axes>"
      ]
     },
     "metadata": {
      "needs_background": "light"
     },
     "output_type": "display_data"
    },
    {
     "name": "stdout",
     "output_type": "stream",
     "text": [
      "find minima starting from 0:\n",
      "Optimization terminated successfully.\n",
      "         Current function value: -7.945823\n",
      "         Iterations: 5\n",
      "         Function evaluations: 18\n",
      "         Gradient evaluations: 6\n",
      "find minima starting from 3:\n",
      "Optimization terminated successfully.\n",
      "         Current function value: 8.315586\n",
      "         Iterations: 6\n",
      "         Function evaluations: 21\n",
      "         Gradient evaluations: 7\n",
      "find global minimum\n",
      "global minimum: x = -1.3064 f(x0)= -7.9458\n"
     ]
    }
   ],
   "source": [
    "import numpy as np\n",
    "from scipy import optimize       # import optimization library\n",
    "import matplotlib.pyplot as plt   # import ploting routine\n",
    "\n",
    "# Define function\n",
    "def f(x):\n",
    "    return x**2 + 10*np.sin(x)\n",
    "\n",
    "\n",
    "# plot it\n",
    "\n",
    "x = np.arange(-10, 10, 0.1) #-10 to 10, step = -0.1\n",
    "#print(x)\n",
    "plt.plot(x, f(x))\n",
    "plt.show()\n",
    "\n",
    "\n",
    "# This function has a global minimum round -1.3\n",
    "# and a local minimum around 3.8\n",
    "\n",
    "# Conduct a gradient descent from zero to find minimum\n",
    "print ('find minima starting from 0:')\n",
    "optimize.fmin_bfgs(f, 0)   # start from 0 and see it finds local min only\n",
    "\n",
    "# conduct gradient descent from 3 to find minimum\n",
    "print ('find minima starting from 3:')\n",
    "optimize.fmin_bfgs(f,3)\n",
    "\n",
    "\n",
    "# To find the global optimal, we use scipy.optimize.basinhopping()\n",
    "# which combines a local optimizer with stochastic sampling of\n",
    "# starting points for the local optimizer\n",
    "\n",
    "print ('find global minimum')\n",
    "minimizer_kwargs = {\"method\": \"BFGS\"}\n",
    "ret = optimize.basinhopping(f, 0.0, \\\n",
    "          minimizer_kwargs= minimizer_kwargs, niter=200)\n",
    "print ('global minimum: x = %.4f'% ret.x, 'f(x0)= %.4f'%ret.fun)\n"
   ]
  },
  {
   "cell_type": "code",
   "execution_count": 4,
   "metadata": {},
   "outputs": [
    {
     "name": "stdout",
     "output_type": "stream",
     "text": [
      "Guess from 1:  [0.]\n",
      "guess from -2.5: [-2.47948183]\n"
     ]
    }
   ],
   "source": [
    "## Finding the roots of a scalar function\n",
    "## Return the roots of the (non-linear) equations defined by func(x) = 0 given a starting estimate.\n",
    "import numpy as np\n",
    "from scipy import optimize   # import optimization package\n",
    "\n",
    "# define function\n",
    "def f(x):\n",
    "    return x**2 + 10*np.sin(x)\n",
    "\n",
    "root = optimize.fsolve(f,1)   # our initial guess\n",
    "print(\"Guess from 1: \", root)\n",
    "\n",
    "root = optimize.fsolve(f, -2.5) # another guess\n",
    "print(\"guess from -2.5:\", root)"
   ]
  },
  {
   "cell_type": "code",
   "execution_count": 16,
   "metadata": {},
   "outputs": [
    {
     "name": "stdout",
     "output_type": "stream",
     "text": [
      "params = [ 0.49943375 10.06622546]\n",
      "params_cov= [[ 6.04711595e-03 -1.07040488e-09]\n",
      " [-1.07040488e-09  1.26830953e-02]]\n"
     ]
    }
   ],
   "source": [
    "# Let's see some optimization\n",
    "import numpy as np\n",
    "from scipy import optimize\n",
    "\n",
    "# define function\n",
    "def f(x):\n",
    "    return x**2 + 10*np.sin(x)\n",
    "\n",
    "xdata = np.linspace(-10,10, num=20) # generate 20 pts of x from -10 to 10 with equal distance\n",
    "#print(xdata)\n",
    "ydata = f(xdata) + np.random.rand(xdata.size) # generate 20 points of y\n",
    "\n",
    "# define another function\n",
    "def f2(x, a, b):\n",
    "    return a + x**2 + b*np.sin(x)\n",
    "\n",
    "# use scipy.optimize.curve_fit()\n",
    "guess = [2,2]  # initial guess\n",
    "params, params_covariance = optimize.curve_fit(f2, xdata, ydata, guess)\n",
    "\n",
    "print(\"params =\", params)\n",
    "print(\"params_cov=\",params_covariance)"
   ]
  },
  {
   "cell_type": "code",
   "execution_count": null,
   "metadata": {},
   "outputs": [],
   "source": []
  }
 ],
 "metadata": {
  "kernelspec": {
   "display_name": "Python 3",
   "language": "python",
   "name": "python3"
  },
  "language_info": {
   "codemirror_mode": {
    "name": "ipython",
    "version": 3
   },
   "file_extension": ".py",
   "mimetype": "text/x-python",
   "name": "python",
   "nbconvert_exporter": "python",
   "pygments_lexer": "ipython3",
   "version": "3.7.0"
  }
 },
 "nbformat": 4,
 "nbformat_minor": 2
}
